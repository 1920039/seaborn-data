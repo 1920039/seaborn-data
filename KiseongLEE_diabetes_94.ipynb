{
  "nbformat": 4,
  "nbformat_minor": 0,
  "metadata": {
    "colab": {
      "name": "KiseongLEE-diabetes_94.ipynb",
      "provenance": [],
      "collapsed_sections": [],
      "toc_visible": true,
      "mount_file_id": "1_XSYBT7BbPdZPKw2NUmSYqXruHZnzPtu",
      "authorship_tag": "ABX9TyNjXU1DUk4mgdKnDzt/+C8M",
      "include_colab_link": true
    },
    "kernelspec": {
      "display_name": "Python 3",
      "name": "python3"
    }
  },
  "cells": [
    {
      "cell_type": "markdown",
      "metadata": {
        "id": "view-in-github",
        "colab_type": "text"
      },
      "source": [
        "<a href=\"https://colab.research.google.com/github/1920039/seaborn-data/blob/master/KiseongLEE_diabetes_94.ipynb\" target=\"_parent\"><img src=\"https://colab.research.google.com/assets/colab-badge.svg\" alt=\"Open In Colab\"/></a>"
      ]
    },
    {
      "cell_type": "markdown",
      "metadata": {
        "id": "GFgP-97uU7wN"
      },
      "source": [
        "# 1 기본 환경 설정 및 데이터 전처리"
      ]
    },
    {
      "cell_type": "markdown",
      "metadata": {
        "id": "KDwvs5CkJeMp"
      },
      "source": [
        "**한글 폰트 설치하기**"
      ]
    },
    {
      "cell_type": "code",
      "metadata": {
        "colab": {
          "base_uri": "https://localhost:8080/"
        },
        "id": "j-u5q8SxYZSn",
        "outputId": "a1120bfb-924c-4db2-b184-af03d4ef3bf6"
      },
      "source": [
        "!sudo apt-get install -y fonts-nanum\n",
        "!sudo fc-cache -fv\n",
        "!rm ~/.cache/matplotlib -rf"
      ],
      "execution_count": null,
      "outputs": [
        {
          "output_type": "stream",
          "text": [
            "Reading package lists... Done\n",
            "Building dependency tree       \n",
            "Reading state information... Done\n",
            "The following NEW packages will be installed:\n",
            "  fonts-nanum\n",
            "0 upgraded, 1 newly installed, 0 to remove and 14 not upgraded.\n",
            "Need to get 9,604 kB of archives.\n",
            "After this operation, 29.5 MB of additional disk space will be used.\n",
            "Get:1 http://archive.ubuntu.com/ubuntu bionic/universe amd64 fonts-nanum all 20170925-1 [9,604 kB]\n",
            "Fetched 9,604 kB in 0s (44.3 MB/s)\n",
            "debconf: unable to initialize frontend: Dialog\n",
            "debconf: (No usable dialog-like program is installed, so the dialog based frontend cannot be used. at /usr/share/perl5/Debconf/FrontEnd/Dialog.pm line 76, <> line 1.)\n",
            "debconf: falling back to frontend: Readline\n",
            "debconf: unable to initialize frontend: Readline\n",
            "debconf: (This frontend requires a controlling tty.)\n",
            "debconf: falling back to frontend: Teletype\n",
            "dpkg-preconfigure: unable to re-open stdin: \n",
            "Selecting previously unselected package fonts-nanum.\n",
            "(Reading database ... 144865 files and directories currently installed.)\n",
            "Preparing to unpack .../fonts-nanum_20170925-1_all.deb ...\n",
            "Unpacking fonts-nanum (20170925-1) ...\n",
            "Setting up fonts-nanum (20170925-1) ...\n",
            "Processing triggers for fontconfig (2.12.6-0ubuntu2) ...\n",
            "/usr/share/fonts: caching, new cache contents: 0 fonts, 1 dirs\n",
            "/usr/share/fonts/truetype: caching, new cache contents: 0 fonts, 3 dirs\n",
            "/usr/share/fonts/truetype/humor-sans: caching, new cache contents: 1 fonts, 0 dirs\n",
            "/usr/share/fonts/truetype/liberation: caching, new cache contents: 16 fonts, 0 dirs\n",
            "/usr/share/fonts/truetype/nanum: caching, new cache contents: 10 fonts, 0 dirs\n",
            "/usr/local/share/fonts: caching, new cache contents: 0 fonts, 0 dirs\n",
            "/root/.local/share/fonts: skipping, no such directory\n",
            "/root/.fonts: skipping, no such directory\n",
            "/var/cache/fontconfig: cleaning cache directory\n",
            "/root/.cache/fontconfig: not cleaning non-existent cache directory\n",
            "/root/.fontconfig: not cleaning non-existent cache directory\n",
            "fc-cache: succeeded\n"
          ],
          "name": "stdout"
        }
      ]
    },
    {
      "cell_type": "markdown",
      "metadata": {
        "id": "fVTHaJzbYzFL"
      },
      "source": [
        "**런타임 다시 시작하기: 메뉴 런타임>런타임 다시 시작**"
      ]
    },
    {
      "cell_type": "markdown",
      "metadata": {
        "id": "rwIbDFqOJmtw"
      },
      "source": [
        "**라이브러리 import**"
      ]
    },
    {
      "cell_type": "code",
      "metadata": {
        "id": "otJ3XCA6Ys27"
      },
      "source": [
        "import pandas as pd\n",
        "import numpy as np\n",
        "\n",
        "from matplotlib import pyplot as plt\n",
        "import seaborn as sns\n",
        "plt.rc('font',size='20' ,family='NanumBarunGothic')        # rc를 통해 한글 폰트 설정"
      ],
      "execution_count": null,
      "outputs": []
    },
    {
      "cell_type": "markdown",
      "metadata": {
        "id": "irpX44jQJ3WV"
      },
      "source": [
        "**구글 드라이브 연결**"
      ]
    },
    {
      "cell_type": "code",
      "metadata": {
        "colab": {
          "base_uri": "https://localhost:8080/"
        },
        "id": "8VqXDt-r8I53",
        "outputId": "732841fd-08f2-4468-f378-5d8e6678031a"
      },
      "source": [
        "from google.colab import drive\n",
        "drive.mount('/content/drive')\n",
        "\n",
        "# /content/drive/My Drive/health/NHIS_OPEN_GJ_2016.csv"
      ],
      "execution_count": null,
      "outputs": [
        {
          "output_type": "stream",
          "text": [
            "Mounted at /content/drive\n"
          ],
          "name": "stdout"
        }
      ]
    },
    {
      "cell_type": "markdown",
      "metadata": {
        "id": "MoK4UbkVKE1E"
      },
      "source": [
        "**파일 읽어오기**"
      ]
    },
    {
      "cell_type": "code",
      "metadata": {
        "colab": {
          "base_uri": "https://localhost:8080/",
          "height": 204
        },
        "id": "r5raOL6lZOrq",
        "outputId": "8e9c30c8-b659-450f-879e-7f67262e6518"
      },
      "source": [
        "# 데이터를 약 1만 건을 읽어오되, 대부분의 알고리즘에서 2천 건만 사용하고 끝부분 '기타'에서 1만 건으로 정확도 영향 점검\n",
        "file = '/content/drive/My Drive/health/NHIS_OPEN_GJ_2016.csv'\n",
        "data = pd.read_csv(file, encoding='cp949', nrows=11000, usecols=[2,3,4,5,6,12,14,18,21,23,25]) \n",
        "df_10k = pd.DataFrame(data)     # Light GBM, Keras에서 추가 점검용으로 사용\n",
        "df_10k.head()     # 항상 head()로 데이터 앞부분 확인"
      ],
      "execution_count": null,
      "outputs": [
        {
          "output_type": "execute_result",
          "data": {
            "text/html": [
              "<div>\n",
              "<style scoped>\n",
              "    .dataframe tbody tr th:only-of-type {\n",
              "        vertical-align: middle;\n",
              "    }\n",
              "\n",
              "    .dataframe tbody tr th {\n",
              "        vertical-align: top;\n",
              "    }\n",
              "\n",
              "    .dataframe thead th {\n",
              "        text-align: right;\n",
              "    }\n",
              "</style>\n",
              "<table border=\"1\" class=\"dataframe\">\n",
              "  <thead>\n",
              "    <tr style=\"text-align: right;\">\n",
              "      <th></th>\n",
              "      <th>sex</th>\n",
              "      <th>age</th>\n",
              "      <th>location</th>\n",
              "      <th>height(5cms)</th>\n",
              "      <th>weight(5cms)</th>\n",
              "      <th>bp_contract</th>\n",
              "      <th>sugarbeforefood</th>\n",
              "      <th>LDL</th>\n",
              "      <th>kreatinin</th>\n",
              "      <th>ALT</th>\n",
              "      <th>smoking</th>\n",
              "    </tr>\n",
              "  </thead>\n",
              "  <tbody>\n",
              "    <tr>\n",
              "      <th>0</th>\n",
              "      <td>1</td>\n",
              "      <td>10</td>\n",
              "      <td>27</td>\n",
              "      <td>175.0</td>\n",
              "      <td>75.0</td>\n",
              "      <td>140.0</td>\n",
              "      <td>91</td>\n",
              "      <td>177.0</td>\n",
              "      <td>0.9</td>\n",
              "      <td>30</td>\n",
              "      <td>3.0</td>\n",
              "    </tr>\n",
              "    <tr>\n",
              "      <th>1</th>\n",
              "      <td>2</td>\n",
              "      <td>11</td>\n",
              "      <td>41</td>\n",
              "      <td>160.0</td>\n",
              "      <td>65.0</td>\n",
              "      <td>138.0</td>\n",
              "      <td>105</td>\n",
              "      <td>122.0</td>\n",
              "      <td>0.9</td>\n",
              "      <td>17</td>\n",
              "      <td>1.0</td>\n",
              "    </tr>\n",
              "    <tr>\n",
              "      <th>2</th>\n",
              "      <td>2</td>\n",
              "      <td>11</td>\n",
              "      <td>43</td>\n",
              "      <td>150.0</td>\n",
              "      <td>55.0</td>\n",
              "      <td>138.0</td>\n",
              "      <td>93</td>\n",
              "      <td>150.0</td>\n",
              "      <td>0.7</td>\n",
              "      <td>19</td>\n",
              "      <td>1.0</td>\n",
              "    </tr>\n",
              "    <tr>\n",
              "      <th>3</th>\n",
              "      <td>1</td>\n",
              "      <td>12</td>\n",
              "      <td>48</td>\n",
              "      <td>175.0</td>\n",
              "      <td>70.0</td>\n",
              "      <td>124.0</td>\n",
              "      <td>93</td>\n",
              "      <td>123.0</td>\n",
              "      <td>1.0</td>\n",
              "      <td>39</td>\n",
              "      <td>2.0</td>\n",
              "    </tr>\n",
              "    <tr>\n",
              "      <th>4</th>\n",
              "      <td>2</td>\n",
              "      <td>6</td>\n",
              "      <td>11</td>\n",
              "      <td>160.0</td>\n",
              "      <td>50.0</td>\n",
              "      <td>121.0</td>\n",
              "      <td>96</td>\n",
              "      <td>130.0</td>\n",
              "      <td>0.7</td>\n",
              "      <td>7</td>\n",
              "      <td>1.0</td>\n",
              "    </tr>\n",
              "  </tbody>\n",
              "</table>\n",
              "</div>"
            ],
            "text/plain": [
              "   sex  age  location  height(5cms)  ...    LDL  kreatinin  ALT  smoking\n",
              "0    1   10        27         175.0  ...  177.0        0.9   30      3.0\n",
              "1    2   11        41         160.0  ...  122.0        0.9   17      1.0\n",
              "2    2   11        43         150.0  ...  150.0        0.7   19      1.0\n",
              "3    1   12        48         175.0  ...  123.0        1.0   39      2.0\n",
              "4    2    6        11         160.0  ...  130.0        0.7    7      1.0\n",
              "\n",
              "[5 rows x 11 columns]"
            ]
          },
          "metadata": {
            "tags": []
          },
          "execution_count": 4
        }
      ]
    },
    {
      "cell_type": "markdown",
      "metadata": {
        "id": "kwgltPImKk33"
      },
      "source": [
        "**칼럼명 변경**"
      ]
    },
    {
      "cell_type": "code",
      "metadata": {
        "id": "9C9QWbgFZzXZ"
      },
      "source": [
        "df_10k.columns = ['성별','연령','시도','신장','체중','혈압','혈당','LDL','크레아티닌','ALT','흡연']"
      ],
      "execution_count": null,
      "outputs": []
    },
    {
      "cell_type": "markdown",
      "metadata": {
        "id": "x6Nv3keGKrZ8"
      },
      "source": [
        "**데이터셋 정보 확인**"
      ]
    },
    {
      "cell_type": "code",
      "metadata": {
        "colab": {
          "base_uri": "https://localhost:8080/"
        },
        "id": "4bktF77AZ3EA",
        "outputId": "8995d840-a0fc-461d-ecd5-7a579c48c20a"
      },
      "source": [
        "df_10k.info()"
      ],
      "execution_count": null,
      "outputs": [
        {
          "output_type": "stream",
          "text": [
            "<class 'pandas.core.frame.DataFrame'>\n",
            "RangeIndex: 11000 entries, 0 to 10999\n",
            "Data columns (total 11 columns):\n",
            " #   Column  Non-Null Count  Dtype  \n",
            "---  ------  --------------  -----  \n",
            " 0   성별      11000 non-null  int64  \n",
            " 1   연령      11000 non-null  int64  \n",
            " 2   시도      11000 non-null  int64  \n",
            " 3   신장      10994 non-null  float64\n",
            " 4   체중      10994 non-null  float64\n",
            " 5   혈압      10999 non-null  float64\n",
            " 6   혈당      11000 non-null  int64  \n",
            " 7   LDL     10976 non-null  float64\n",
            " 8   크레아티닌   11000 non-null  float64\n",
            " 9   ALT     11000 non-null  int64  \n",
            " 10  흡연      10999 non-null  float64\n",
            "dtypes: float64(6), int64(5)\n",
            "memory usage: 945.4 KB\n"
          ],
          "name": "stdout"
        }
      ]
    },
    {
      "cell_type": "markdown",
      "metadata": {
        "id": "eVr1-z-JK22f"
      },
      "source": [
        "**빈 칸이 있는 행 삭제**"
      ]
    },
    {
      "cell_type": "code",
      "metadata": {
        "id": "lEL2IbIYZ96Y"
      },
      "source": [
        "df_10k = df_10k.dropna()"
      ],
      "execution_count": null,
      "outputs": []
    },
    {
      "cell_type": "markdown",
      "metadata": {
        "id": "ySS9cE2RK9eA"
      },
      "source": [
        "**데이터셋 정보 확인**"
      ]
    },
    {
      "cell_type": "code",
      "metadata": {
        "colab": {
          "base_uri": "https://localhost:8080/"
        },
        "id": "0YCCaDQoaKzp",
        "outputId": "63b9a2eb-5af1-4cb8-8ea1-2b188cfce8d5"
      },
      "source": [
        "df_10k.info()"
      ],
      "execution_count": null,
      "outputs": [
        {
          "output_type": "stream",
          "text": [
            "<class 'pandas.core.frame.DataFrame'>\n",
            "Int64Index: 10969 entries, 0 to 10999\n",
            "Data columns (total 11 columns):\n",
            " #   Column  Non-Null Count  Dtype  \n",
            "---  ------  --------------  -----  \n",
            " 0   성별      10969 non-null  int64  \n",
            " 1   연령      10969 non-null  int64  \n",
            " 2   시도      10969 non-null  int64  \n",
            " 3   신장      10969 non-null  float64\n",
            " 4   체중      10969 non-null  float64\n",
            " 5   혈압      10969 non-null  float64\n",
            " 6   혈당      10969 non-null  int64  \n",
            " 7   LDL     10969 non-null  float64\n",
            " 8   크레아티닌   10969 non-null  float64\n",
            " 9   ALT     10969 non-null  int64  \n",
            " 10  흡연      10969 non-null  float64\n",
            "dtypes: float64(6), int64(5)\n",
            "memory usage: 1.0 MB\n"
          ],
          "name": "stdout"
        }
      ]
    },
    {
      "cell_type": "code",
      "metadata": {
        "colab": {
          "base_uri": "https://localhost:8080/",
          "height": 297
        },
        "id": "cBEtdSjcaVgp",
        "outputId": "8e580dc9-06bd-44c2-f92e-f9b2992e4adb"
      },
      "source": [
        "df_10k.describe()"
      ],
      "execution_count": null,
      "outputs": [
        {
          "output_type": "execute_result",
          "data": {
            "text/html": [
              "<div>\n",
              "<style scoped>\n",
              "    .dataframe tbody tr th:only-of-type {\n",
              "        vertical-align: middle;\n",
              "    }\n",
              "\n",
              "    .dataframe tbody tr th {\n",
              "        vertical-align: top;\n",
              "    }\n",
              "\n",
              "    .dataframe thead th {\n",
              "        text-align: right;\n",
              "    }\n",
              "</style>\n",
              "<table border=\"1\" class=\"dataframe\">\n",
              "  <thead>\n",
              "    <tr style=\"text-align: right;\">\n",
              "      <th></th>\n",
              "      <th>성별</th>\n",
              "      <th>연령</th>\n",
              "      <th>시도</th>\n",
              "      <th>신장</th>\n",
              "      <th>체중</th>\n",
              "      <th>혈압</th>\n",
              "      <th>혈당</th>\n",
              "      <th>LDL</th>\n",
              "      <th>크레아티닌</th>\n",
              "      <th>ALT</th>\n",
              "      <th>흡연</th>\n",
              "    </tr>\n",
              "  </thead>\n",
              "  <tbody>\n",
              "    <tr>\n",
              "      <th>count</th>\n",
              "      <td>10969.000000</td>\n",
              "      <td>10969.000000</td>\n",
              "      <td>10969.000000</td>\n",
              "      <td>10969.000000</td>\n",
              "      <td>10969.000000</td>\n",
              "      <td>10969.000000</td>\n",
              "      <td>10969.000000</td>\n",
              "      <td>10969.000000</td>\n",
              "      <td>10969.000000</td>\n",
              "      <td>10969.000000</td>\n",
              "      <td>10969.000000</td>\n",
              "    </tr>\n",
              "    <tr>\n",
              "      <th>mean</th>\n",
              "      <td>1.461847</td>\n",
              "      <td>10.481630</td>\n",
              "      <td>33.788768</td>\n",
              "      <td>162.502507</td>\n",
              "      <td>63.197648</td>\n",
              "      <td>122.282797</td>\n",
              "      <td>99.901176</td>\n",
              "      <td>113.859878</td>\n",
              "      <td>0.872276</td>\n",
              "      <td>25.409700</td>\n",
              "      <td>1.623484</td>\n",
              "    </tr>\n",
              "    <tr>\n",
              "      <th>std</th>\n",
              "      <td>0.498565</td>\n",
              "      <td>2.849056</td>\n",
              "      <td>12.565908</td>\n",
              "      <td>9.405448</td>\n",
              "      <td>12.643118</td>\n",
              "      <td>14.464810</td>\n",
              "      <td>24.057657</td>\n",
              "      <td>39.355155</td>\n",
              "      <td>0.314165</td>\n",
              "      <td>21.493411</td>\n",
              "      <td>0.829843</td>\n",
              "    </tr>\n",
              "    <tr>\n",
              "      <th>min</th>\n",
              "      <td>1.000000</td>\n",
              "      <td>5.000000</td>\n",
              "      <td>11.000000</td>\n",
              "      <td>105.000000</td>\n",
              "      <td>25.000000</td>\n",
              "      <td>80.000000</td>\n",
              "      <td>40.000000</td>\n",
              "      <td>1.000000</td>\n",
              "      <td>0.100000</td>\n",
              "      <td>1.000000</td>\n",
              "      <td>1.000000</td>\n",
              "    </tr>\n",
              "    <tr>\n",
              "      <th>25%</th>\n",
              "      <td>1.000000</td>\n",
              "      <td>8.000000</td>\n",
              "      <td>27.000000</td>\n",
              "      <td>155.000000</td>\n",
              "      <td>55.000000</td>\n",
              "      <td>111.000000</td>\n",
              "      <td>88.000000</td>\n",
              "      <td>90.000000</td>\n",
              "      <td>0.700000</td>\n",
              "      <td>14.000000</td>\n",
              "      <td>1.000000</td>\n",
              "    </tr>\n",
              "    <tr>\n",
              "      <th>50%</th>\n",
              "      <td>1.000000</td>\n",
              "      <td>10.000000</td>\n",
              "      <td>41.000000</td>\n",
              "      <td>165.000000</td>\n",
              "      <td>60.000000</td>\n",
              "      <td>120.000000</td>\n",
              "      <td>95.000000</td>\n",
              "      <td>112.000000</td>\n",
              "      <td>0.900000</td>\n",
              "      <td>20.000000</td>\n",
              "      <td>1.000000</td>\n",
              "    </tr>\n",
              "    <tr>\n",
              "      <th>75%</th>\n",
              "      <td>2.000000</td>\n",
              "      <td>13.000000</td>\n",
              "      <td>43.000000</td>\n",
              "      <td>170.000000</td>\n",
              "      <td>70.000000</td>\n",
              "      <td>130.000000</td>\n",
              "      <td>105.000000</td>\n",
              "      <td>135.000000</td>\n",
              "      <td>1.000000</td>\n",
              "      <td>29.000000</td>\n",
              "      <td>2.000000</td>\n",
              "    </tr>\n",
              "    <tr>\n",
              "      <th>max</th>\n",
              "      <td>2.000000</td>\n",
              "      <td>18.000000</td>\n",
              "      <td>49.000000</td>\n",
              "      <td>195.000000</td>\n",
              "      <td>170.000000</td>\n",
              "      <td>210.000000</td>\n",
              "      <td>424.000000</td>\n",
              "      <td>1840.000000</td>\n",
              "      <td>12.500000</td>\n",
              "      <td>670.000000</td>\n",
              "      <td>3.000000</td>\n",
              "    </tr>\n",
              "  </tbody>\n",
              "</table>\n",
              "</div>"
            ],
            "text/plain": [
              "                 성별            연령  ...           ALT            흡연\n",
              "count  10969.000000  10969.000000  ...  10969.000000  10969.000000\n",
              "mean       1.461847     10.481630  ...     25.409700      1.623484\n",
              "std        0.498565      2.849056  ...     21.493411      0.829843\n",
              "min        1.000000      5.000000  ...      1.000000      1.000000\n",
              "25%        1.000000      8.000000  ...     14.000000      1.000000\n",
              "50%        1.000000     10.000000  ...     20.000000      1.000000\n",
              "75%        2.000000     13.000000  ...     29.000000      2.000000\n",
              "max        2.000000     18.000000  ...    670.000000      3.000000\n",
              "\n",
              "[8 rows x 11 columns]"
            ]
          },
          "metadata": {
            "tags": []
          },
          "execution_count": 9
        }
      ]
    },
    {
      "cell_type": "markdown",
      "metadata": {
        "id": "pxf6TjpKLFY-"
      },
      "source": [
        "**연령대를 알아보기 쉽게 변환**"
      ]
    },
    {
      "cell_type": "code",
      "metadata": {
        "id": "w7iLOAEdaYEp"
      },
      "source": [
        "df_10k['연령'] = df_10k['연령'].map({5:20, 6:20, 7:30, 8:30, 9:40, 10:40, 11:50, 12:50,\n",
        "                         13:60, 14:60, 15:70, 16:70, 17:80, 18:80})   #20은 20대, 30은 30대...입니다"
      ],
      "execution_count": null,
      "outputs": []
    },
    {
      "cell_type": "markdown",
      "metadata": {
        "id": "WW3OZ1WkLLwl"
      },
      "source": [
        "**체질량 칼럼 및 당뇨 칼럼 추가**"
      ]
    },
    {
      "cell_type": "code",
      "metadata": {
        "id": "b2yNxJOlbPso"
      },
      "source": [
        "df_10k['체질량'] = round(df_10k['체중'] / (df_10k['신장'] / 100)**2, 1)"
      ],
      "execution_count": null,
      "outputs": []
    },
    {
      "cell_type": "code",
      "metadata": {
        "colab": {
          "base_uri": "https://localhost:8080/",
          "height": 419
        },
        "id": "nAIqUn3jJQa6",
        "outputId": "640ec9f2-0a38-4d64-db20-b5b5dedcb9b9"
      },
      "source": [
        "df_10k['당뇨'] = df_10k['혈당'] >= 126\n",
        "df_10k"
      ],
      "execution_count": null,
      "outputs": [
        {
          "output_type": "execute_result",
          "data": {
            "text/html": [
              "<div>\n",
              "<style scoped>\n",
              "    .dataframe tbody tr th:only-of-type {\n",
              "        vertical-align: middle;\n",
              "    }\n",
              "\n",
              "    .dataframe tbody tr th {\n",
              "        vertical-align: top;\n",
              "    }\n",
              "\n",
              "    .dataframe thead th {\n",
              "        text-align: right;\n",
              "    }\n",
              "</style>\n",
              "<table border=\"1\" class=\"dataframe\">\n",
              "  <thead>\n",
              "    <tr style=\"text-align: right;\">\n",
              "      <th></th>\n",
              "      <th>성별</th>\n",
              "      <th>연령</th>\n",
              "      <th>시도</th>\n",
              "      <th>신장</th>\n",
              "      <th>체중</th>\n",
              "      <th>혈압</th>\n",
              "      <th>혈당</th>\n",
              "      <th>LDL</th>\n",
              "      <th>크레아티닌</th>\n",
              "      <th>ALT</th>\n",
              "      <th>흡연</th>\n",
              "      <th>체질량</th>\n",
              "      <th>당뇨</th>\n",
              "    </tr>\n",
              "  </thead>\n",
              "  <tbody>\n",
              "    <tr>\n",
              "      <th>0</th>\n",
              "      <td>1</td>\n",
              "      <td>40</td>\n",
              "      <td>27</td>\n",
              "      <td>175.0</td>\n",
              "      <td>75.0</td>\n",
              "      <td>140.0</td>\n",
              "      <td>91</td>\n",
              "      <td>177.0</td>\n",
              "      <td>0.9</td>\n",
              "      <td>30</td>\n",
              "      <td>3.0</td>\n",
              "      <td>24.5</td>\n",
              "      <td>False</td>\n",
              "    </tr>\n",
              "    <tr>\n",
              "      <th>1</th>\n",
              "      <td>2</td>\n",
              "      <td>50</td>\n",
              "      <td>41</td>\n",
              "      <td>160.0</td>\n",
              "      <td>65.0</td>\n",
              "      <td>138.0</td>\n",
              "      <td>105</td>\n",
              "      <td>122.0</td>\n",
              "      <td>0.9</td>\n",
              "      <td>17</td>\n",
              "      <td>1.0</td>\n",
              "      <td>25.4</td>\n",
              "      <td>False</td>\n",
              "    </tr>\n",
              "    <tr>\n",
              "      <th>2</th>\n",
              "      <td>2</td>\n",
              "      <td>50</td>\n",
              "      <td>43</td>\n",
              "      <td>150.0</td>\n",
              "      <td>55.0</td>\n",
              "      <td>138.0</td>\n",
              "      <td>93</td>\n",
              "      <td>150.0</td>\n",
              "      <td>0.7</td>\n",
              "      <td>19</td>\n",
              "      <td>1.0</td>\n",
              "      <td>24.4</td>\n",
              "      <td>False</td>\n",
              "    </tr>\n",
              "    <tr>\n",
              "      <th>3</th>\n",
              "      <td>1</td>\n",
              "      <td>50</td>\n",
              "      <td>48</td>\n",
              "      <td>175.0</td>\n",
              "      <td>70.0</td>\n",
              "      <td>124.0</td>\n",
              "      <td>93</td>\n",
              "      <td>123.0</td>\n",
              "      <td>1.0</td>\n",
              "      <td>39</td>\n",
              "      <td>2.0</td>\n",
              "      <td>22.9</td>\n",
              "      <td>False</td>\n",
              "    </tr>\n",
              "    <tr>\n",
              "      <th>4</th>\n",
              "      <td>2</td>\n",
              "      <td>20</td>\n",
              "      <td>11</td>\n",
              "      <td>160.0</td>\n",
              "      <td>50.0</td>\n",
              "      <td>121.0</td>\n",
              "      <td>96</td>\n",
              "      <td>130.0</td>\n",
              "      <td>0.7</td>\n",
              "      <td>7</td>\n",
              "      <td>1.0</td>\n",
              "      <td>19.5</td>\n",
              "      <td>False</td>\n",
              "    </tr>\n",
              "    <tr>\n",
              "      <th>...</th>\n",
              "      <td>...</td>\n",
              "      <td>...</td>\n",
              "      <td>...</td>\n",
              "      <td>...</td>\n",
              "      <td>...</td>\n",
              "      <td>...</td>\n",
              "      <td>...</td>\n",
              "      <td>...</td>\n",
              "      <td>...</td>\n",
              "      <td>...</td>\n",
              "      <td>...</td>\n",
              "      <td>...</td>\n",
              "      <td>...</td>\n",
              "    </tr>\n",
              "    <tr>\n",
              "      <th>10995</th>\n",
              "      <td>2</td>\n",
              "      <td>60</td>\n",
              "      <td>26</td>\n",
              "      <td>155.0</td>\n",
              "      <td>60.0</td>\n",
              "      <td>112.0</td>\n",
              "      <td>89</td>\n",
              "      <td>121.0</td>\n",
              "      <td>0.7</td>\n",
              "      <td>19</td>\n",
              "      <td>1.0</td>\n",
              "      <td>25.0</td>\n",
              "      <td>False</td>\n",
              "    </tr>\n",
              "    <tr>\n",
              "      <th>10996</th>\n",
              "      <td>1</td>\n",
              "      <td>60</td>\n",
              "      <td>26</td>\n",
              "      <td>160.0</td>\n",
              "      <td>65.0</td>\n",
              "      <td>101.0</td>\n",
              "      <td>135</td>\n",
              "      <td>194.0</td>\n",
              "      <td>0.8</td>\n",
              "      <td>19</td>\n",
              "      <td>3.0</td>\n",
              "      <td>25.4</td>\n",
              "      <td>True</td>\n",
              "    </tr>\n",
              "    <tr>\n",
              "      <th>10997</th>\n",
              "      <td>1</td>\n",
              "      <td>50</td>\n",
              "      <td>41</td>\n",
              "      <td>165.0</td>\n",
              "      <td>60.0</td>\n",
              "      <td>146.0</td>\n",
              "      <td>138</td>\n",
              "      <td>55.0</td>\n",
              "      <td>0.8</td>\n",
              "      <td>13</td>\n",
              "      <td>1.0</td>\n",
              "      <td>22.0</td>\n",
              "      <td>True</td>\n",
              "    </tr>\n",
              "    <tr>\n",
              "      <th>10998</th>\n",
              "      <td>1</td>\n",
              "      <td>50</td>\n",
              "      <td>42</td>\n",
              "      <td>170.0</td>\n",
              "      <td>65.0</td>\n",
              "      <td>130.0</td>\n",
              "      <td>129</td>\n",
              "      <td>87.0</td>\n",
              "      <td>0.8</td>\n",
              "      <td>27</td>\n",
              "      <td>3.0</td>\n",
              "      <td>22.5</td>\n",
              "      <td>True</td>\n",
              "    </tr>\n",
              "    <tr>\n",
              "      <th>10999</th>\n",
              "      <td>1</td>\n",
              "      <td>60</td>\n",
              "      <td>44</td>\n",
              "      <td>150.0</td>\n",
              "      <td>50.0</td>\n",
              "      <td>132.0</td>\n",
              "      <td>97</td>\n",
              "      <td>77.0</td>\n",
              "      <td>0.8</td>\n",
              "      <td>20</td>\n",
              "      <td>1.0</td>\n",
              "      <td>22.2</td>\n",
              "      <td>False</td>\n",
              "    </tr>\n",
              "  </tbody>\n",
              "</table>\n",
              "<p>10969 rows × 13 columns</p>\n",
              "</div>"
            ],
            "text/plain": [
              "       성별  연령  시도     신장    체중     혈압   혈당    LDL  크레아티닌  ALT   흡연   체질량     당뇨\n",
              "0       1  40  27  175.0  75.0  140.0   91  177.0    0.9   30  3.0  24.5  False\n",
              "1       2  50  41  160.0  65.0  138.0  105  122.0    0.9   17  1.0  25.4  False\n",
              "2       2  50  43  150.0  55.0  138.0   93  150.0    0.7   19  1.0  24.4  False\n",
              "3       1  50  48  175.0  70.0  124.0   93  123.0    1.0   39  2.0  22.9  False\n",
              "4       2  20  11  160.0  50.0  121.0   96  130.0    0.7    7  1.0  19.5  False\n",
              "...    ..  ..  ..    ...   ...    ...  ...    ...    ...  ...  ...   ...    ...\n",
              "10995   2  60  26  155.0  60.0  112.0   89  121.0    0.7   19  1.0  25.0  False\n",
              "10996   1  60  26  160.0  65.0  101.0  135  194.0    0.8   19  3.0  25.4   True\n",
              "10997   1  50  41  165.0  60.0  146.0  138   55.0    0.8   13  1.0  22.0   True\n",
              "10998   1  50  42  170.0  65.0  130.0  129   87.0    0.8   27  3.0  22.5   True\n",
              "10999   1  60  44  150.0  50.0  132.0   97   77.0    0.8   20  1.0  22.2  False\n",
              "\n",
              "[10969 rows x 13 columns]"
            ]
          },
          "metadata": {
            "tags": []
          },
          "execution_count": 12
        }
      ]
    },
    {
      "cell_type": "markdown",
      "metadata": {
        "id": "xevPJNxbLVOV"
      },
      "source": [
        "**데이터 2천 건으로 분석을 수행하기 위해 'df'로 명명하고 X, y 구분**"
      ]
    },
    {
      "cell_type": "code",
      "metadata": {
        "id": "m77nSheFJdZS"
      },
      "source": [
        "df = df_10k[:2000]"
      ],
      "execution_count": null,
      "outputs": []
    },
    {
      "cell_type": "code",
      "metadata": {
        "colab": {
          "base_uri": "https://localhost:8080/",
          "height": 419
        },
        "id": "BEuDGcqwQHXa",
        "outputId": "d23e1ece-99d4-41da-9660-15e0c3f2c308"
      },
      "source": [
        "X = df[['성별', '연령', '시도', '혈압', 'LDL', '크레아티닌', 'ALT', '흡연', '체질량']]\n",
        "X"
      ],
      "execution_count": null,
      "outputs": [
        {
          "output_type": "execute_result",
          "data": {
            "text/html": [
              "<div>\n",
              "<style scoped>\n",
              "    .dataframe tbody tr th:only-of-type {\n",
              "        vertical-align: middle;\n",
              "    }\n",
              "\n",
              "    .dataframe tbody tr th {\n",
              "        vertical-align: top;\n",
              "    }\n",
              "\n",
              "    .dataframe thead th {\n",
              "        text-align: right;\n",
              "    }\n",
              "</style>\n",
              "<table border=\"1\" class=\"dataframe\">\n",
              "  <thead>\n",
              "    <tr style=\"text-align: right;\">\n",
              "      <th></th>\n",
              "      <th>성별</th>\n",
              "      <th>연령</th>\n",
              "      <th>시도</th>\n",
              "      <th>혈압</th>\n",
              "      <th>LDL</th>\n",
              "      <th>크레아티닌</th>\n",
              "      <th>ALT</th>\n",
              "      <th>흡연</th>\n",
              "      <th>체질량</th>\n",
              "    </tr>\n",
              "  </thead>\n",
              "  <tbody>\n",
              "    <tr>\n",
              "      <th>0</th>\n",
              "      <td>1</td>\n",
              "      <td>40</td>\n",
              "      <td>27</td>\n",
              "      <td>140.0</td>\n",
              "      <td>177.0</td>\n",
              "      <td>0.9</td>\n",
              "      <td>30</td>\n",
              "      <td>3.0</td>\n",
              "      <td>24.5</td>\n",
              "    </tr>\n",
              "    <tr>\n",
              "      <th>1</th>\n",
              "      <td>2</td>\n",
              "      <td>50</td>\n",
              "      <td>41</td>\n",
              "      <td>138.0</td>\n",
              "      <td>122.0</td>\n",
              "      <td>0.9</td>\n",
              "      <td>17</td>\n",
              "      <td>1.0</td>\n",
              "      <td>25.4</td>\n",
              "    </tr>\n",
              "    <tr>\n",
              "      <th>2</th>\n",
              "      <td>2</td>\n",
              "      <td>50</td>\n",
              "      <td>43</td>\n",
              "      <td>138.0</td>\n",
              "      <td>150.0</td>\n",
              "      <td>0.7</td>\n",
              "      <td>19</td>\n",
              "      <td>1.0</td>\n",
              "      <td>24.4</td>\n",
              "    </tr>\n",
              "    <tr>\n",
              "      <th>3</th>\n",
              "      <td>1</td>\n",
              "      <td>50</td>\n",
              "      <td>48</td>\n",
              "      <td>124.0</td>\n",
              "      <td>123.0</td>\n",
              "      <td>1.0</td>\n",
              "      <td>39</td>\n",
              "      <td>2.0</td>\n",
              "      <td>22.9</td>\n",
              "    </tr>\n",
              "    <tr>\n",
              "      <th>4</th>\n",
              "      <td>2</td>\n",
              "      <td>20</td>\n",
              "      <td>11</td>\n",
              "      <td>121.0</td>\n",
              "      <td>130.0</td>\n",
              "      <td>0.7</td>\n",
              "      <td>7</td>\n",
              "      <td>1.0</td>\n",
              "      <td>19.5</td>\n",
              "    </tr>\n",
              "    <tr>\n",
              "      <th>...</th>\n",
              "      <td>...</td>\n",
              "      <td>...</td>\n",
              "      <td>...</td>\n",
              "      <td>...</td>\n",
              "      <td>...</td>\n",
              "      <td>...</td>\n",
              "      <td>...</td>\n",
              "      <td>...</td>\n",
              "      <td>...</td>\n",
              "    </tr>\n",
              "    <tr>\n",
              "      <th>2001</th>\n",
              "      <td>1</td>\n",
              "      <td>60</td>\n",
              "      <td>46</td>\n",
              "      <td>120.0</td>\n",
              "      <td>43.0</td>\n",
              "      <td>1.1</td>\n",
              "      <td>28</td>\n",
              "      <td>1.0</td>\n",
              "      <td>22.9</td>\n",
              "    </tr>\n",
              "    <tr>\n",
              "      <th>2002</th>\n",
              "      <td>2</td>\n",
              "      <td>80</td>\n",
              "      <td>11</td>\n",
              "      <td>144.0</td>\n",
              "      <td>67.0</td>\n",
              "      <td>0.9</td>\n",
              "      <td>21</td>\n",
              "      <td>1.0</td>\n",
              "      <td>24.4</td>\n",
              "    </tr>\n",
              "    <tr>\n",
              "      <th>2003</th>\n",
              "      <td>2</td>\n",
              "      <td>20</td>\n",
              "      <td>27</td>\n",
              "      <td>100.0</td>\n",
              "      <td>73.0</td>\n",
              "      <td>0.6</td>\n",
              "      <td>16</td>\n",
              "      <td>2.0</td>\n",
              "      <td>23.9</td>\n",
              "    </tr>\n",
              "    <tr>\n",
              "      <th>2004</th>\n",
              "      <td>2</td>\n",
              "      <td>40</td>\n",
              "      <td>11</td>\n",
              "      <td>104.0</td>\n",
              "      <td>96.0</td>\n",
              "      <td>0.9</td>\n",
              "      <td>25</td>\n",
              "      <td>1.0</td>\n",
              "      <td>22.9</td>\n",
              "    </tr>\n",
              "    <tr>\n",
              "      <th>2005</th>\n",
              "      <td>1</td>\n",
              "      <td>40</td>\n",
              "      <td>41</td>\n",
              "      <td>120.0</td>\n",
              "      <td>122.0</td>\n",
              "      <td>1.2</td>\n",
              "      <td>41</td>\n",
              "      <td>3.0</td>\n",
              "      <td>27.5</td>\n",
              "    </tr>\n",
              "  </tbody>\n",
              "</table>\n",
              "<p>2000 rows × 9 columns</p>\n",
              "</div>"
            ],
            "text/plain": [
              "      성별  연령  시도     혈압    LDL  크레아티닌  ALT   흡연   체질량\n",
              "0      1  40  27  140.0  177.0    0.9   30  3.0  24.5\n",
              "1      2  50  41  138.0  122.0    0.9   17  1.0  25.4\n",
              "2      2  50  43  138.0  150.0    0.7   19  1.0  24.4\n",
              "3      1  50  48  124.0  123.0    1.0   39  2.0  22.9\n",
              "4      2  20  11  121.0  130.0    0.7    7  1.0  19.5\n",
              "...   ..  ..  ..    ...    ...    ...  ...  ...   ...\n",
              "2001   1  60  46  120.0   43.0    1.1   28  1.0  22.9\n",
              "2002   2  80  11  144.0   67.0    0.9   21  1.0  24.4\n",
              "2003   2  20  27  100.0   73.0    0.6   16  2.0  23.9\n",
              "2004   2  40  11  104.0   96.0    0.9   25  1.0  22.9\n",
              "2005   1  40  41  120.0  122.0    1.2   41  3.0  27.5\n",
              "\n",
              "[2000 rows x 9 columns]"
            ]
          },
          "metadata": {
            "tags": []
          },
          "execution_count": 14
        }
      ]
    },
    {
      "cell_type": "code",
      "metadata": {
        "colab": {
          "base_uri": "https://localhost:8080/"
        },
        "id": "GSQViKVSQHar",
        "outputId": "b7786af2-1a76-4fde-fe39-dc5855380f42"
      },
      "source": [
        "y = df['당뇨']\n",
        "y"
      ],
      "execution_count": null,
      "outputs": [
        {
          "output_type": "execute_result",
          "data": {
            "text/plain": [
              "0       False\n",
              "1       False\n",
              "2       False\n",
              "3       False\n",
              "4       False\n",
              "        ...  \n",
              "2001    False\n",
              "2002     True\n",
              "2003    False\n",
              "2004    False\n",
              "2005    False\n",
              "Name: 당뇨, Length: 2000, dtype: bool"
            ]
          },
          "metadata": {
            "tags": []
          },
          "execution_count": 15
        }
      ]
    },
    {
      "cell_type": "markdown",
      "metadata": {
        "id": "oHIYTNysLsSc"
      },
      "source": [
        "**Train, Test 셋 구분**"
      ]
    },
    {
      "cell_type": "code",
      "metadata": {
        "colab": {
          "base_uri": "https://localhost:8080/"
        },
        "id": "zMkRDO1HQmmJ",
        "outputId": "320bea4e-cbb8-478c-a69a-6d11647ba4e7"
      },
      "source": [
        "from sklearn.model_selection import train_test_split\n",
        "X_train, X_test, y_train, y_test = train_test_split(X, y, test_size=0.2, random_state=94)  ###############################\n",
        "X_train.shape[0],X_test.shape[0], y_train.shape[0],y_test.shape[0]   # 행의 수 확인"
      ],
      "execution_count": null,
      "outputs": [
        {
          "output_type": "execute_result",
          "data": {
            "text/plain": [
              "(1600, 400, 1600, 400)"
            ]
          },
          "metadata": {
            "tags": []
          },
          "execution_count": 16
        }
      ]
    },
    {
      "cell_type": "markdown",
      "metadata": {
        "id": "DoXHx91rVS5v"
      },
      "source": [
        "# 2-1. 보팅 앙상블: 하이퍼 파라미터 설정 없이 학습하기"
      ]
    },
    {
      "cell_type": "markdown",
      "metadata": {
        "id": "zB4I5w6SMqda"
      },
      "source": [
        "**라이브러리 import 및 분류기 약어 설정**"
      ]
    },
    {
      "cell_type": "code",
      "metadata": {
        "id": "yz3pKS2Bcc7T"
      },
      "source": [
        "from sklearn.neighbors import KNeighborsClassifier\n",
        "from sklearn.ensemble import VotingClassifier\n",
        "from sklearn.svm import SVC\n",
        "from sklearn.naive_bayes import GaussianNB\n",
        "from lightgbm import LGBMClassifier\n",
        "from sklearn.metrics import accuracy_score\n",
        "from sklearn import metrics            \n",
        "\n",
        "knn = KNeighborsClassifier()\n",
        "svc = SVC(probability=True)  # probability=True 써야 soft 보팅 시 에러 없음\n",
        "gnb = GaussianNB()\n",
        "lgbm = LGBMClassifier()"
      ],
      "execution_count": null,
      "outputs": []
    },
    {
      "cell_type": "markdown",
      "metadata": {
        "id": "U-QZzYVOx6ww"
      },
      "source": [
        "**하드 보팅: 분류기별 가중치 1:1:0.5:1**"
      ]
    },
    {
      "cell_type": "code",
      "metadata": {
        "colab": {
          "base_uri": "https://localhost:8080/"
        },
        "id": "rwQfM-aPxcZS",
        "outputId": "3c9bb4f5-62a0-4fba-dcdd-b898dd744380"
      },
      "source": [
        "hard_voting_model_1 = VotingClassifier(estimators=[\r\n",
        "    ('KNN', knn), ('SVC', svc), ('Gaussian Naive Bayes', gnb), ('Light GBM', lgbm)],\r\n",
        "    weights=[1,1,0.5,1], voting='hard')            \r\n",
        "hard_voting_model_1.fit(X_train, y_train)\r\n",
        "hard_voting_predicted = hard_voting_model_1.predict(X_test)\r\n",
        "print(metrics.classification_report(y_test, hard_voting_predicted))   \r\n",
        "print('hard voting accuracy: %.8f' % accuracy_score(y_test, hard_voting_predicted))"
      ],
      "execution_count": null,
      "outputs": [
        {
          "output_type": "stream",
          "text": [
            "              precision    recall  f1-score   support\n",
            "\n",
            "       False       0.93      1.00      0.96       372\n",
            "        True       0.00      0.00      0.00        28\n",
            "\n",
            "    accuracy                           0.93       400\n",
            "   macro avg       0.47      0.50      0.48       400\n",
            "weighted avg       0.86      0.93      0.90       400\n",
            "\n",
            "hard voting accuracy: 0.93000000\n"
          ],
          "name": "stdout"
        },
        {
          "output_type": "stream",
          "text": [
            "/usr/local/lib/python3.6/dist-packages/sklearn/metrics/_classification.py:1272: UndefinedMetricWarning: Precision and F-score are ill-defined and being set to 0.0 in labels with no predicted samples. Use `zero_division` parameter to control this behavior.\n",
            "  _warn_prf(average, modifier, msg_start, len(result))\n"
          ],
          "name": "stderr"
        }
      ]
    },
    {
      "cell_type": "markdown",
      "metadata": {
        "id": "Rwn0CjmHMr0C"
      },
      "source": [
        "**모델이 True값을 예측하지 않아서 경고 메시지 발생(에러는 아님)**"
      ]
    },
    {
      "cell_type": "markdown",
      "metadata": {
        "id": "BRrmdKEcM1rz"
      },
      "source": [
        "**하드 보팅: 분류기별 가중치 1:1:1:1**"
      ]
    },
    {
      "cell_type": "code",
      "metadata": {
        "colab": {
          "base_uri": "https://localhost:8080/"
        },
        "id": "yU6p5dQucdGs",
        "outputId": "2c60837b-fd4c-4b19-b63c-d2752feffa68"
      },
      "source": [
        "hard_voting_model = VotingClassifier(estimators=[\n",
        "    ('KNN', knn), ('SVC', svc), ('Gaussian Naive Bayes', gnb), ('Light GBM', lgbm)],\n",
        "    weights=[1,1,1,1], voting='hard')            \n",
        "hard_voting_model.fit(X_train, y_train)\n",
        "hard_voting_predicted = hard_voting_model.predict(X_test)\n",
        "print(metrics.classification_report(y_test, hard_voting_predicted))   \n",
        "print('hard voting accuracy: %.8f' % accuracy_score(y_test, hard_voting_predicted))"
      ],
      "execution_count": null,
      "outputs": [
        {
          "output_type": "stream",
          "text": [
            "              precision    recall  f1-score   support\n",
            "\n",
            "       False       0.93      1.00      0.96       372\n",
            "        True       0.00      0.00      0.00        28\n",
            "\n",
            "    accuracy                           0.93       400\n",
            "   macro avg       0.47      0.50      0.48       400\n",
            "weighted avg       0.86      0.93      0.90       400\n",
            "\n",
            "hard voting accuracy: 0.93000000\n"
          ],
          "name": "stdout"
        },
        {
          "output_type": "stream",
          "text": [
            "/usr/local/lib/python3.6/dist-packages/sklearn/metrics/_classification.py:1272: UndefinedMetricWarning: Precision and F-score are ill-defined and being set to 0.0 in labels with no predicted samples. Use `zero_division` parameter to control this behavior.\n",
            "  _warn_prf(average, modifier, msg_start, len(result))\n"
          ],
          "name": "stderr"
        }
      ]
    },
    {
      "cell_type": "markdown",
      "metadata": {
        "id": "ItSgvKfZyDi7"
      },
      "source": [
        "**소프트 보팅: 분류기별 가중치 1:1:0.5:1**"
      ]
    },
    {
      "cell_type": "code",
      "metadata": {
        "colab": {
          "base_uri": "https://localhost:8080/"
        },
        "id": "DAmQx-LDyKph",
        "outputId": "7bafe9ad-0c29-4339-8604-d76e88458edf"
      },
      "source": [
        "soft_voting_model_1 = VotingClassifier(estimators=[\r\n",
        "    ('KNN', knn), ('SVC', svc), ('Gaussian Naive Bayes', gnb), ('Light GBM', lgbm)],\r\n",
        "    weights=[1,1,0.5,1], voting='soft')\r\n",
        "soft_voting_model_1.fit(X_train, y_train)\r\n",
        "soft_voting_predicted = soft_voting_model_1.predict(X_test)\r\n",
        "print('soft voting accuracy: %.8f' % accuracy_score(y_test, soft_voting_predicted))"
      ],
      "execution_count": null,
      "outputs": [
        {
          "output_type": "stream",
          "text": [
            "              precision    recall  f1-score   support\n",
            "\n",
            "       False       0.93      1.00      0.96       372\n",
            "        True       0.00      0.00      0.00        28\n",
            "\n",
            "    accuracy                           0.93       400\n",
            "   macro avg       0.46      0.50      0.48       400\n",
            "weighted avg       0.86      0.93      0.90       400\n",
            "\n",
            "soft voting accuracy: 0.92750000\n"
          ],
          "name": "stdout"
        }
      ]
    },
    {
      "cell_type": "markdown",
      "metadata": {
        "id": "MPFJmNBxNF6s"
      },
      "source": [
        "**소프트 보팅: 분류기별 가중치 1:1:1:1**"
      ]
    },
    {
      "cell_type": "code",
      "metadata": {
        "colab": {
          "base_uri": "https://localhost:8080/"
        },
        "id": "rzle2KLsdwR_",
        "outputId": "7b4dde0f-086a-452e-81b7-05bb36480f91"
      },
      "source": [
        "soft_voting_model = VotingClassifier(estimators=[\n",
        "    ('KNN', knn), ('SVC', svc), ('Gaussian Naive Bayes', gnb), ('Light GBM', lgbm)],\n",
        "    weights=[1,1,1,1], voting='soft')\n",
        "soft_voting_model.fit(X_train, y_train)\n",
        "soft_voting_predicted = soft_voting_model.predict(X_test)\n",
        "print(metrics.classification_report(y_test, soft_voting_predicted))   \n",
        "print('soft voting accuracy: %.8f' % accuracy_score(y_test, soft_voting_predicted))"
      ],
      "execution_count": null,
      "outputs": [
        {
          "output_type": "stream",
          "text": [
            "              precision    recall  f1-score   support\n",
            "\n",
            "       False       0.93      1.00      0.96       372\n",
            "        True       0.00      0.00      0.00        28\n",
            "\n",
            "    accuracy                           0.93       400\n",
            "   macro avg       0.46      0.50      0.48       400\n",
            "weighted avg       0.86      0.93      0.90       400\n",
            "\n",
            "soft voting accuracy: 0.92750000\n"
          ],
          "name": "stdout"
        }
      ]
    },
    {
      "cell_type": "markdown",
      "metadata": {
        "id": "SKs5J98lYTpV"
      },
      "source": [
        "# 2-2. 보팅 앙상블: 하이퍼 파라미터 설정하여 학습하기"
      ]
    },
    {
      "cell_type": "markdown",
      "metadata": {
        "id": "DDklpsM6VL32"
      },
      "source": [
        "### 기반 분류기 1: KNN"
      ]
    },
    {
      "cell_type": "markdown",
      "metadata": {
        "id": "gjAcsjQINpiY"
      },
      "source": [
        "**라이브러리를 import하고 K 후보 도출**"
      ]
    },
    {
      "cell_type": "code",
      "metadata": {
        "colab": {
          "base_uri": "https://localhost:8080/"
        },
        "id": "BA5OS9-9SQxQ",
        "outputId": "8556b5b5-ad57-48d8-dd8d-ae171def0963"
      },
      "source": [
        "from sklearn.model_selection import cross_val_score\n",
        "\n",
        "## 예측값이 가장 높은 최적의 k 찾기\n",
        "# 우선 k 후보들을 도출하는데, k의 범위는 3부터 학습 데이터의 절반까지 지정\n",
        "max_k_range = X_train.shape[0] // 2\n",
        "k_list = list(np.arange(3, max_k_range, 50))  # k는 보통 홀수를 사용\n",
        "print(k_list, end='')    "
      ],
      "execution_count": null,
      "outputs": [
        {
          "output_type": "stream",
          "text": [
            "[3, 53, 103, 153, 203, 253, 303, 353, 403, 453, 503, 553, 603, 653, 703, 753]"
          ],
          "name": "stdout"
        }
      ]
    },
    {
      "cell_type": "markdown",
      "metadata": {
        "id": "VNyox2V8PMmd"
      },
      "source": [
        "**교차검증(10-fold)을 각 k를 대상으로 수행하여 검증 결과(accuracy 평균)를 저장**"
      ]
    },
    {
      "cell_type": "code",
      "metadata": {
        "colab": {
          "base_uri": "https://localhost:8080/"
        },
        "id": "_Ll0Q-ZpSQ5g",
        "outputId": "87c27f38-6e04-4096-f7aa-78cbc845da8c"
      },
      "source": [
        "cross_validation_scores = []\n",
        "\n",
        "for k in k_list:\n",
        "    knn = KNeighborsClassifier(n_neighbors=k)\n",
        "    scores = cross_val_score(knn, X_train, y_train, cv=10, scoring='accuracy') \n",
        "    cross_validation_scores.append(scores.mean())\n",
        "\n",
        "cross_validation_scores  "
      ],
      "execution_count": null,
      "outputs": [
        {
          "output_type": "execute_result",
          "data": {
            "text/plain": [
              "[0.9112499999999999,\n",
              " 0.9262500000000001,\n",
              " 0.9262500000000001,\n",
              " 0.9262500000000001,\n",
              " 0.9262500000000001,\n",
              " 0.9262500000000001,\n",
              " 0.9262500000000001,\n",
              " 0.9262500000000001,\n",
              " 0.9262500000000001,\n",
              " 0.9262500000000001,\n",
              " 0.9262500000000001,\n",
              " 0.9262500000000001,\n",
              " 0.9262500000000001,\n",
              " 0.9262500000000001,\n",
              " 0.9262500000000001,\n",
              " 0.9262500000000001]"
            ]
          },
          "metadata": {
            "tags": []
          },
          "execution_count": 21
        }
      ]
    },
    {
      "cell_type": "markdown",
      "metadata": {
        "id": "bq6umQkXPXHC"
      },
      "source": [
        "**K값과 검증 결과의 관계를 그래프로 표시**"
      ]
    },
    {
      "cell_type": "code",
      "metadata": {
        "colab": {
          "base_uri": "https://localhost:8080/",
          "height": 303
        },
        "id": "lwimsvHHSRBH",
        "outputId": "d9025185-4a85-4d5a-91c5-de91c5407030"
      },
      "source": [
        "plt.plot(k_list, cross_validation_scores)\n",
        "plt.xlabel('# of k')\n",
        "plt.ylabel('Accuracy')\n",
        "plt.show()"
      ],
      "execution_count": null,
      "outputs": [
        {
          "output_type": "display_data",
          "data": {
            "image/png": "[encoded data removed]",
            "text/plain": [
              "<Figure size 432x288 with 1 Axes>"
            ]
          },
          "metadata": {
            "tags": [],
            "needs_background": "light"
          }
        }
      ]
    },
    {
      "cell_type": "markdown",
      "metadata": {
        "id": "uAOLR3AlPgnG"
      },
      "source": [
        "**k=53 이후 cross_validation_score의 변화가 없으므로 k=53 미만의 숫자들로 다시 탐색**"
      ]
    },
    {
      "cell_type": "code",
      "metadata": {
        "colab": {
          "base_uri": "https://localhost:8080/"
        },
        "id": "OlgKkeHEdddB",
        "outputId": "a25fc497-0a5f-4be5-e458-272f7fc2d70b"
      },
      "source": [
        "k_list = list(np.arange(3, 53, 2))  # k는 보통 홀수를 사용    \n",
        "print(k_list, end='')    "
      ],
      "execution_count": null,
      "outputs": [
        {
          "output_type": "stream",
          "text": [
            "[3, 5, 7, 9, 11, 13, 15, 17, 19, 21, 23, 25, 27, 29, 31, 33, 35, 37, 39, 41, 43, 45, 47, 49, 51]"
          ],
          "name": "stdout"
        }
      ]
    },
    {
      "cell_type": "code",
      "metadata": {
        "colab": {
          "base_uri": "https://localhost:8080/"
        },
        "id": "JYlqccXOXZOL",
        "outputId": "e892d165-0640-4c1a-e637-f3a058f4929d"
      },
      "source": [
        "cross_validation_scores = []\n",
        "\n",
        "for k in k_list:\n",
        "    knn = KNeighborsClassifier(n_neighbors=k)\n",
        "    scores = cross_val_score(knn, X_train, y_train, cv=10, scoring='accuracy') \n",
        "    cross_validation_scores.append(scores.mean())\n",
        "\n",
        "cross_validation_scores  "
      ],
      "execution_count": null,
      "outputs": [
        {
          "output_type": "execute_result",
          "data": {
            "text/plain": [
              "[0.9112499999999999,\n",
              " 0.92125,\n",
              " 0.925,\n",
              " 0.9275,\n",
              " 0.9256250000000001,\n",
              " 0.9262500000000001,\n",
              " 0.9256250000000001,\n",
              " 0.9262500000000001,\n",
              " 0.9262500000000001,\n",
              " 0.9262500000000001,\n",
              " 0.9262500000000001,\n",
              " 0.9262500000000001,\n",
              " 0.9262500000000001,\n",
              " 0.9262500000000001,\n",
              " 0.9262500000000001,\n",
              " 0.9262500000000001,\n",
              " 0.9262500000000001,\n",
              " 0.9262500000000001,\n",
              " 0.9262500000000001,\n",
              " 0.9262500000000001,\n",
              " 0.9262500000000001,\n",
              " 0.9262500000000001,\n",
              " 0.9262500000000001,\n",
              " 0.9262500000000001,\n",
              " 0.9262500000000001]"
            ]
          },
          "metadata": {
            "tags": []
          },
          "execution_count": 24
        }
      ]
    },
    {
      "cell_type": "code",
      "metadata": {
        "colab": {
          "base_uri": "https://localhost:8080/",
          "height": 303
        },
        "id": "trOX5aEddvUR",
        "outputId": "649ad98b-d6ff-4e2d-af0c-c5eadbaf5598"
      },
      "source": [
        "plt.plot(k_list, cross_validation_scores)\n",
        "plt.xlabel('# of k')\n",
        "plt.ylabel('Accuracy')\n",
        "plt.show()"
      ],
      "execution_count": null,
      "outputs": [
        {
          "output_type": "display_data",
          "data": {
            "image/png": "[encoded data removed]",
            "text/plain": [
              "<Figure size 432x288 with 1 Axes>"
            ]
          },
          "metadata": {
            "tags": [],
            "needs_background": "light"
          }
        }
      ]
    },
    {
      "cell_type": "markdown",
      "metadata": {
        "id": "stP0ij5YPteD"
      },
      "source": [
        "**최적의 K 도출**"
      ]
    },
    {
      "cell_type": "code",
      "metadata": {
        "colab": {
          "base_uri": "https://localhost:8080/"
        },
        "id": "KyACWvce--25",
        "outputId": "1f757b2c-601c-4901-f75c-d0dc122a3998"
      },
      "source": [
        "cvs = cross_validation_scores\n",
        "k = k_list[cvs.index(max(cross_validation_scores))]\n",
        "print('the best number of k: ' + str(k))"
      ],
      "execution_count": null,
      "outputs": [
        {
          "output_type": "stream",
          "text": [
            "the best number of k: 9\n"
          ],
          "name": "stdout"
        }
      ]
    },
    {
      "cell_type": "markdown",
      "metadata": {
        "id": "0VfhuersP0Iq"
      },
      "source": [
        "**모델 학습, 테스트, 결과 출력**"
      ]
    },
    {
      "cell_type": "code",
      "metadata": {
        "colab": {
          "base_uri": "https://localhost:8080/",
          "height": 539
        },
        "id": "jZ9AJEqfXZ95",
        "outputId": "5711455d-7f54-405a-b6c8-696882529009"
      },
      "source": [
        "knn = KNeighborsClassifier(n_neighbors=k)\n",
        "knn.fit(X_train, y_train)\n",
        "pred = knn.predict(X_test)\n",
        "\n",
        "print(metrics.classification_report(y_test, pred))   \n",
        "print('accuracy: %.8f'% accuracy_score(y_test, pred))\n",
        "comparison = pd.DataFrame({'ground_truth': y_test, 'prediction': pred})\n",
        "comparison.head(10)"
      ],
      "execution_count": null,
      "outputs": [
        {
          "output_type": "stream",
          "text": [
            "              precision    recall  f1-score   support\n",
            "\n",
            "       False       0.93      0.99      0.96       372\n",
            "        True       0.33      0.04      0.06        28\n",
            "\n",
            "    accuracy                           0.93       400\n",
            "   macro avg       0.63      0.52      0.51       400\n",
            "weighted avg       0.89      0.93      0.90       400\n",
            "\n",
            "accuracy: 0.92750000\n"
          ],
          "name": "stdout"
        },
        {
          "output_type": "execute_result",
          "data": {
            "text/html": [
              "<div>\n",
              "<style scoped>\n",
              "    .dataframe tbody tr th:only-of-type {\n",
              "        vertical-align: middle;\n",
              "    }\n",
              "\n",
              "    .dataframe tbody tr th {\n",
              "        vertical-align: top;\n",
              "    }\n",
              "\n",
              "    .dataframe thead th {\n",
              "        text-align: right;\n",
              "    }\n",
              "</style>\n",
              "<table border=\"1\" class=\"dataframe\">\n",
              "  <thead>\n",
              "    <tr style=\"text-align: right;\">\n",
              "      <th></th>\n",
              "      <th>ground_truth</th>\n",
              "      <th>prediction</th>\n",
              "    </tr>\n",
              "  </thead>\n",
              "  <tbody>\n",
              "    <tr>\n",
              "      <th>874</th>\n",
              "      <td>False</td>\n",
              "      <td>False</td>\n",
              "    </tr>\n",
              "    <tr>\n",
              "      <th>1297</th>\n",
              "      <td>False</td>\n",
              "      <td>False</td>\n",
              "    </tr>\n",
              "    <tr>\n",
              "      <th>1448</th>\n",
              "      <td>False</td>\n",
              "      <td>False</td>\n",
              "    </tr>\n",
              "    <tr>\n",
              "      <th>1061</th>\n",
              "      <td>False</td>\n",
              "      <td>False</td>\n",
              "    </tr>\n",
              "    <tr>\n",
              "      <th>1139</th>\n",
              "      <td>False</td>\n",
              "      <td>False</td>\n",
              "    </tr>\n",
              "    <tr>\n",
              "      <th>1572</th>\n",
              "      <td>False</td>\n",
              "      <td>False</td>\n",
              "    </tr>\n",
              "    <tr>\n",
              "      <th>194</th>\n",
              "      <td>False</td>\n",
              "      <td>False</td>\n",
              "    </tr>\n",
              "    <tr>\n",
              "      <th>1429</th>\n",
              "      <td>False</td>\n",
              "      <td>False</td>\n",
              "    </tr>\n",
              "    <tr>\n",
              "      <th>1394</th>\n",
              "      <td>False</td>\n",
              "      <td>False</td>\n",
              "    </tr>\n",
              "    <tr>\n",
              "      <th>1563</th>\n",
              "      <td>False</td>\n",
              "      <td>False</td>\n",
              "    </tr>\n",
              "  </tbody>\n",
              "</table>\n",
              "</div>"
            ],
            "text/plain": [
              "      ground_truth  prediction\n",
              "874          False       False\n",
              "1297         False       False\n",
              "1448         False       False\n",
              "1061         False       False\n",
              "1139         False       False\n",
              "1572         False       False\n",
              "194          False       False\n",
              "1429         False       False\n",
              "1394         False       False\n",
              "1563         False       False"
            ]
          },
          "metadata": {
            "tags": []
          },
          "execution_count": 27
        }
      ]
    },
    {
      "cell_type": "markdown",
      "metadata": {
        "id": "hzxHIm-GYGcU"
      },
      "source": [
        "### 기반 분류기 2: SVC"
      ]
    },
    {
      "cell_type": "markdown",
      "metadata": {
        "id": "XCFyaGD7QIUW"
      },
      "source": [
        "**라이브러리를 import하고, GridSearchCV로 최적의 하이퍼 파라미터를 도출하여 학습하기**"
      ]
    },
    {
      "cell_type": "code",
      "metadata": {
        "colab": {
          "base_uri": "https://localhost:8080/"
        },
        "id": "H4Gu-o1QSRIa",
        "outputId": "e18cdc72-5bae-458b-c383-699f1dcee5f3"
      },
      "source": [
        "from sklearn.model_selection import GridSearchCV\n",
        "from sklearn.metrics import classification_report\n",
        "from sklearn.metrics import accuracy_score\n",
        "\n",
        "def svc_param_selection(x, y, nfolds):\n",
        "    svm_parameters = [\n",
        "                    {'kernel': ['rbf'],\n",
        "                    'gamma': [0.00001, 0.0001, 0.001, 0.01, 0.1, 1],\n",
        "                    'C': [0.01, 0.1, 1, 10, 100, 1000]}\n",
        "                    ]\n",
        "    clf = GridSearchCV(SVC(probability=True), svm_parameters, cv=nfolds)\n",
        "      # probability=True를 해줘야 소프트 보팅 앙상블에서 에러 발생 않음\n",
        "    clf.fit(x, y)\n",
        "    print(clf.best_params_)\n",
        "    return clf\n",
        "\n",
        "# 최적의 하이퍼 파라미터로 학습된 모델을 clf로 저장\n",
        "clf = svc_param_selection(X_train, y_train, 10)   "
      ],
      "execution_count": null,
      "outputs": [
        {
          "output_type": "stream",
          "text": [
            "{'C': 0.01, 'gamma': 1e-05, 'kernel': 'rbf'}\n"
          ],
          "name": "stdout"
        }
      ]
    },
    {
      "cell_type": "markdown",
      "metadata": {
        "id": "6XYK0ZRSQqJE"
      },
      "source": [
        "**모델 테스트 및 결과 출력**"
      ]
    },
    {
      "cell_type": "code",
      "metadata": {
        "colab": {
          "base_uri": "https://localhost:8080/",
          "height": 595
        },
        "id": "4beMH0RbUhej",
        "outputId": "2923cc29-dd0a-4bc8-b7ff-5aa9a7a1bff6"
      },
      "source": [
        "y_true, y_pred = y_test, clf.predict(X_test)\n",
        "print(metrics.classification_report(y_true, y_pred))   \n",
        "print('accuracy: %.8f'% accuracy_score(y_true, y_pred))\n",
        "\n",
        "comparison = pd.DataFrame({'ground_truth': y_true, 'prediction': y_pred})\n",
        "comparison.head(10)"
      ],
      "execution_count": null,
      "outputs": [
        {
          "output_type": "stream",
          "text": [
            "              precision    recall  f1-score   support\n",
            "\n",
            "       False       0.93      1.00      0.96       372\n",
            "        True       0.00      0.00      0.00        28\n",
            "\n",
            "    accuracy                           0.93       400\n",
            "   macro avg       0.47      0.50      0.48       400\n",
            "weighted avg       0.86      0.93      0.90       400\n",
            "\n",
            "accuracy: 0.93000000\n"
          ],
          "name": "stdout"
        },
        {
          "output_type": "stream",
          "text": [
            "/usr/local/lib/python3.6/dist-packages/sklearn/metrics/_classification.py:1272: UndefinedMetricWarning: Precision and F-score are ill-defined and being set to 0.0 in labels with no predicted samples. Use `zero_division` parameter to control this behavior.\n",
            "  _warn_prf(average, modifier, msg_start, len(result))\n"
          ],
          "name": "stderr"
        },
        {
          "output_type": "execute_result",
          "data": {
            "text/html": [
              "<div>\n",
              "<style scoped>\n",
              "    .dataframe tbody tr th:only-of-type {\n",
              "        vertical-align: middle;\n",
              "    }\n",
              "\n",
              "    .dataframe tbody tr th {\n",
              "        vertical-align: top;\n",
              "    }\n",
              "\n",
              "    .dataframe thead th {\n",
              "        text-align: right;\n",
              "    }\n",
              "</style>\n",
              "<table border=\"1\" class=\"dataframe\">\n",
              "  <thead>\n",
              "    <tr style=\"text-align: right;\">\n",
              "      <th></th>\n",
              "      <th>ground_truth</th>\n",
              "      <th>prediction</th>\n",
              "    </tr>\n",
              "  </thead>\n",
              "  <tbody>\n",
              "    <tr>\n",
              "      <th>874</th>\n",
              "      <td>False</td>\n",
              "      <td>False</td>\n",
              "    </tr>\n",
              "    <tr>\n",
              "      <th>1297</th>\n",
              "      <td>False</td>\n",
              "      <td>False</td>\n",
              "    </tr>\n",
              "    <tr>\n",
              "      <th>1448</th>\n",
              "      <td>False</td>\n",
              "      <td>False</td>\n",
              "    </tr>\n",
              "    <tr>\n",
              "      <th>1061</th>\n",
              "      <td>False</td>\n",
              "      <td>False</td>\n",
              "    </tr>\n",
              "    <tr>\n",
              "      <th>1139</th>\n",
              "      <td>False</td>\n",
              "      <td>False</td>\n",
              "    </tr>\n",
              "    <tr>\n",
              "      <th>1572</th>\n",
              "      <td>False</td>\n",
              "      <td>False</td>\n",
              "    </tr>\n",
              "    <tr>\n",
              "      <th>194</th>\n",
              "      <td>False</td>\n",
              "      <td>False</td>\n",
              "    </tr>\n",
              "    <tr>\n",
              "      <th>1429</th>\n",
              "      <td>False</td>\n",
              "      <td>False</td>\n",
              "    </tr>\n",
              "    <tr>\n",
              "      <th>1394</th>\n",
              "      <td>False</td>\n",
              "      <td>False</td>\n",
              "    </tr>\n",
              "    <tr>\n",
              "      <th>1563</th>\n",
              "      <td>False</td>\n",
              "      <td>False</td>\n",
              "    </tr>\n",
              "  </tbody>\n",
              "</table>\n",
              "</div>"
            ],
            "text/plain": [
              "      ground_truth  prediction\n",
              "874          False       False\n",
              "1297         False       False\n",
              "1448         False       False\n",
              "1061         False       False\n",
              "1139         False       False\n",
              "1572         False       False\n",
              "194          False       False\n",
              "1429         False       False\n",
              "1394         False       False\n",
              "1563         False       False"
            ]
          },
          "metadata": {
            "tags": []
          },
          "execution_count": 29
        }
      ]
    },
    {
      "cell_type": "markdown",
      "metadata": {
        "id": "aq7oC5jFYMzT"
      },
      "source": [
        "### 기반 분류기 3: 가우시안 나이브 베이즈"
      ]
    },
    {
      "cell_type": "markdown",
      "metadata": {
        "id": "5FEveLYvS2Yt"
      },
      "source": [
        "**모델 학습 및 테스트 결과 출력**"
      ]
    },
    {
      "cell_type": "code",
      "metadata": {
        "colab": {
          "base_uri": "https://localhost:8080/",
          "height": 539
        },
        "id": "eu17NjEJUhh8",
        "outputId": "04bc6f0e-537c-4226-a8b9-67e38a6c72b1"
      },
      "source": [
        "gnb = GaussianNB()\n",
        "gnb.fit(X_train, y_train)\n",
        "expected = y_test\n",
        "predicted = gnb.predict(X_test)\n",
        "print(metrics.classification_report(expected, predicted))   \n",
        "print('accuracy: %.8f'% accuracy_score(expected, predicted))\n",
        "\n",
        "comparison = pd.DataFrame({'ground_truth': expected, 'prediction': predicted})\n",
        "comparison.head(10)"
      ],
      "execution_count": null,
      "outputs": [
        {
          "output_type": "stream",
          "text": [
            "              precision    recall  f1-score   support\n",
            "\n",
            "       False       0.94      0.97      0.95       372\n",
            "        True       0.20      0.11      0.14        28\n",
            "\n",
            "    accuracy                           0.91       400\n",
            "   macro avg       0.57      0.54      0.55       400\n",
            "weighted avg       0.88      0.91      0.89       400\n",
            "\n",
            "accuracy: 0.90750000\n"
          ],
          "name": "stdout"
        },
        {
          "output_type": "execute_result",
          "data": {
            "text/html": [
              "<div>\n",
              "<style scoped>\n",
              "    .dataframe tbody tr th:only-of-type {\n",
              "        vertical-align: middle;\n",
              "    }\n",
              "\n",
              "    .dataframe tbody tr th {\n",
              "        vertical-align: top;\n",
              "    }\n",
              "\n",
              "    .dataframe thead th {\n",
              "        text-align: right;\n",
              "    }\n",
              "</style>\n",
              "<table border=\"1\" class=\"dataframe\">\n",
              "  <thead>\n",
              "    <tr style=\"text-align: right;\">\n",
              "      <th></th>\n",
              "      <th>ground_truth</th>\n",
              "      <th>prediction</th>\n",
              "    </tr>\n",
              "  </thead>\n",
              "  <tbody>\n",
              "    <tr>\n",
              "      <th>874</th>\n",
              "      <td>False</td>\n",
              "      <td>False</td>\n",
              "    </tr>\n",
              "    <tr>\n",
              "      <th>1297</th>\n",
              "      <td>False</td>\n",
              "      <td>False</td>\n",
              "    </tr>\n",
              "    <tr>\n",
              "      <th>1448</th>\n",
              "      <td>False</td>\n",
              "      <td>False</td>\n",
              "    </tr>\n",
              "    <tr>\n",
              "      <th>1061</th>\n",
              "      <td>False</td>\n",
              "      <td>False</td>\n",
              "    </tr>\n",
              "    <tr>\n",
              "      <th>1139</th>\n",
              "      <td>False</td>\n",
              "      <td>False</td>\n",
              "    </tr>\n",
              "    <tr>\n",
              "      <th>1572</th>\n",
              "      <td>False</td>\n",
              "      <td>False</td>\n",
              "    </tr>\n",
              "    <tr>\n",
              "      <th>194</th>\n",
              "      <td>False</td>\n",
              "      <td>False</td>\n",
              "    </tr>\n",
              "    <tr>\n",
              "      <th>1429</th>\n",
              "      <td>False</td>\n",
              "      <td>False</td>\n",
              "    </tr>\n",
              "    <tr>\n",
              "      <th>1394</th>\n",
              "      <td>False</td>\n",
              "      <td>False</td>\n",
              "    </tr>\n",
              "    <tr>\n",
              "      <th>1563</th>\n",
              "      <td>False</td>\n",
              "      <td>False</td>\n",
              "    </tr>\n",
              "  </tbody>\n",
              "</table>\n",
              "</div>"
            ],
            "text/plain": [
              "      ground_truth  prediction\n",
              "874          False       False\n",
              "1297         False       False\n",
              "1448         False       False\n",
              "1061         False       False\n",
              "1139         False       False\n",
              "1572         False       False\n",
              "194          False       False\n",
              "1429         False       False\n",
              "1394         False       False\n",
              "1563         False       False"
            ]
          },
          "metadata": {
            "tags": []
          },
          "execution_count": 30
        }
      ]
    },
    {
      "cell_type": "markdown",
      "metadata": {
        "id": "EIE1EJ7zYkxl"
      },
      "source": [
        "### 기반 분류기 4: Light GBM "
      ]
    },
    {
      "cell_type": "markdown",
      "metadata": {
        "id": "6obytO4ETkC6"
      },
      "source": [
        "**라이브러리 import, 모델 학습, 결과 출력**"
      ]
    },
    {
      "cell_type": "code",
      "metadata": {
        "colab": {
          "base_uri": "https://localhost:8080/",
          "height": 539
        },
        "id": "Ql3l2LI8QHjv",
        "outputId": "c68dc98f-d909-4cec-d565-a34ad6e5bece"
      },
      "source": [
        "from lightgbm import LGBMClassifier\n",
        "\n",
        "lgbm_wrapper = LGBMClassifier(n_estimators=200)\n",
        "\n",
        "evals = [(X_test, y_test)]\n",
        "lgbm_wrapper.fit(X_train, y_train, early_stopping_rounds=100, \n",
        "                 eval_metric='logloss', eval_set=evals, verbose=False)    \n",
        "    # early_stopping: 100회를 반복해도 손실이 감소하지 않으면 조기 중단\n",
        "    # eval_set은 성능 평가를 수행할 평가용 데이터 셋을 설정\n",
        "    # 조기 중단을 수행하려면 eval_set을 명기해야 함\n",
        "    # 오류함수의 성능 평가 지표는 logloss\n",
        "prediction = lgbm_wrapper.predict(X_test)\n",
        "print(metrics.classification_report(y_test, prediction))   \n",
        "print('accuracy: %.8f'% accuracy_score(y_test, prediction))\n",
        "\n",
        "comparison = pd.DataFrame({'ground_truth': y_test, 'prediction': prediction})\n",
        "comparison.head(10)"
      ],
      "execution_count": null,
      "outputs": [
        {
          "output_type": "stream",
          "text": [
            "              precision    recall  f1-score   support\n",
            "\n",
            "       False       0.93      0.99      0.96       372\n",
            "        True       0.50      0.07      0.12        28\n",
            "\n",
            "    accuracy                           0.93       400\n",
            "   macro avg       0.72      0.53      0.54       400\n",
            "weighted avg       0.90      0.93      0.90       400\n",
            "\n",
            "accuracy: 0.93000000\n"
          ],
          "name": "stdout"
        },
        {
          "output_type": "execute_result",
          "data": {
            "text/html": [
              "<div>\n",
              "<style scoped>\n",
              "    .dataframe tbody tr th:only-of-type {\n",
              "        vertical-align: middle;\n",
              "    }\n",
              "\n",
              "    .dataframe tbody tr th {\n",
              "        vertical-align: top;\n",
              "    }\n",
              "\n",
              "    .dataframe thead th {\n",
              "        text-align: right;\n",
              "    }\n",
              "</style>\n",
              "<table border=\"1\" class=\"dataframe\">\n",
              "  <thead>\n",
              "    <tr style=\"text-align: right;\">\n",
              "      <th></th>\n",
              "      <th>ground_truth</th>\n",
              "      <th>prediction</th>\n",
              "    </tr>\n",
              "  </thead>\n",
              "  <tbody>\n",
              "    <tr>\n",
              "      <th>874</th>\n",
              "      <td>False</td>\n",
              "      <td>False</td>\n",
              "    </tr>\n",
              "    <tr>\n",
              "      <th>1297</th>\n",
              "      <td>False</td>\n",
              "      <td>False</td>\n",
              "    </tr>\n",
              "    <tr>\n",
              "      <th>1448</th>\n",
              "      <td>False</td>\n",
              "      <td>False</td>\n",
              "    </tr>\n",
              "    <tr>\n",
              "      <th>1061</th>\n",
              "      <td>False</td>\n",
              "      <td>False</td>\n",
              "    </tr>\n",
              "    <tr>\n",
              "      <th>1139</th>\n",
              "      <td>False</td>\n",
              "      <td>False</td>\n",
              "    </tr>\n",
              "    <tr>\n",
              "      <th>1572</th>\n",
              "      <td>False</td>\n",
              "      <td>False</td>\n",
              "    </tr>\n",
              "    <tr>\n",
              "      <th>194</th>\n",
              "      <td>False</td>\n",
              "      <td>False</td>\n",
              "    </tr>\n",
              "    <tr>\n",
              "      <th>1429</th>\n",
              "      <td>False</td>\n",
              "      <td>False</td>\n",
              "    </tr>\n",
              "    <tr>\n",
              "      <th>1394</th>\n",
              "      <td>False</td>\n",
              "      <td>False</td>\n",
              "    </tr>\n",
              "    <tr>\n",
              "      <th>1563</th>\n",
              "      <td>False</td>\n",
              "      <td>False</td>\n",
              "    </tr>\n",
              "  </tbody>\n",
              "</table>\n",
              "</div>"
            ],
            "text/plain": [
              "      ground_truth  prediction\n",
              "874          False       False\n",
              "1297         False       False\n",
              "1448         False       False\n",
              "1061         False       False\n",
              "1139         False       False\n",
              "1572         False       False\n",
              "194          False       False\n",
              "1429         False       False\n",
              "1394         False       False\n",
              "1563         False       False"
            ]
          },
          "metadata": {
            "tags": []
          },
          "execution_count": 31
        }
      ]
    },
    {
      "cell_type": "markdown",
      "metadata": {
        "id": "hQwnl8atUPuS"
      },
      "source": [
        "**LGBM의 하이퍼 파라미터 변경 1**"
      ]
    },
    {
      "cell_type": "code",
      "metadata": {
        "colab": {
          "base_uri": "https://localhost:8080/"
        },
        "id": "-6RiFd_OQHmf",
        "outputId": "2ecc94a6-7d3b-4e48-8380-91b36c3f87b5"
      },
      "source": [
        "# learning rate 0.1(default) --> 0.05, n_estimators(반복 수행하는 트리의 개수) 200 --> 400, early_stopping 비적용\n",
        "lgbm_wrapper1 = LGBMClassifier(n_estimators=400, learning_rate=0.05)\n",
        "\n",
        "lgbm_wrapper1.fit(X_train, y_train, eval_metric='logloss',   # early_stopping_rounds=100 제거\n",
        "                  verbose=False)             # 수행과정을 보이지 않음\n",
        "prediction = lgbm_wrapper1.predict(X_test)\n",
        "print('accuracy: %.8f'% accuracy_score(y_test, prediction))"
      ],
      "execution_count": null,
      "outputs": [
        {
          "output_type": "stream",
          "text": [
            "accuracy: 0.92250000\n"
          ],
          "name": "stdout"
        }
      ]
    },
    {
      "cell_type": "markdown",
      "metadata": {
        "id": "bATSuKl9VJB8"
      },
      "source": [
        "**LGBM의 하이퍼 파라미터 변경 2**"
      ]
    },
    {
      "cell_type": "markdown",
      "metadata": {
        "id": "EItx2Qah6kJF"
      },
      "source": [
        "이번에는 num_leaves(개별 트리가 가질 수 있는 최대 리프의 개수), min_data_in_leaf(리프 노드가 되기 위해 필요한 최소 레코드 수), max_depth를 조절하여 정확도 변화를 보겠습니다. 일반적으로 num_leaves 개수를 높이면 정확도가 높아지지만 과대적합 위험이 있다고 합니다. min_data_in_leaf를 크게 하면 트리가 깊어지는 것을 방지하여 과대적합을 방지하고, max_depth 또한 작게 하면 과대적합을 방지합니다."
      ]
    },
    {
      "cell_type": "code",
      "metadata": {
        "colab": {
          "base_uri": "https://localhost:8080/"
        },
        "id": "ShwSKh6wW_4Q",
        "outputId": "7e9bef37-8eb5-4cf5-ed06-34d9f500c58f"
      },
      "source": [
        "# num_leaves 31(default) --> 40 / min_data_in_leaf 20(default) --> 20 / max_depth -1(default) --> 20, 30, 40 all tried but accuracy stays the same\n",
        "lgbm_wrapper2 = LGBMClassifier(num_leaves=40, min_data_in_leaf=20, max_depth=80, n_estimators=400, learning_rate=0.1)\n",
        "\n",
        "lgbm_wrapper2.fit(X_train, y_train, eval_metric='logloss',\n",
        "                 verbose=False)\n",
        "prediction = lgbm_wrapper2.predict(X_test)\n",
        "print('accuracy: %.8f'% accuracy_score(y_test, prediction))"
      ],
      "execution_count": null,
      "outputs": [
        {
          "output_type": "stream",
          "text": [
            "accuracy: 0.92500000\n"
          ],
          "name": "stdout"
        }
      ]
    },
    {
      "cell_type": "markdown",
      "metadata": {
        "id": "koyYfCVKVny5"
      },
      "source": [
        "**GridSearchCV를 이용한 하이퍼 파라미터 튜닝**"
      ]
    },
    {
      "cell_type": "code",
      "metadata": {
        "colab": {
          "base_uri": "https://localhost:8080/"
        },
        "id": "hGb_lfamV6TT",
        "outputId": "94f88a8f-f75b-4506-a1f8-3fa1f3e69729"
      },
      "source": [
        "def lgbm_param_selection(x, y, nfolds):\n",
        "    lgbm_parameters = [\n",
        "                    {'learning_rate': [0.05, 0.1, 0.15],\n",
        "                    'n_estimators': [400, 800],\n",
        "                    'num_leaves': [25, 31, 37],\n",
        "                    'min_data_in_leaf': [15, 20, 25],\n",
        "                    'max_depth': [-1, 50, 100]}\n",
        "                    ]\n",
        "    lgbm_grid = GridSearchCV(LGBMClassifier(eval_metric='logloss'), \n",
        "                             lgbm_parameters, cv=nfolds)\n",
        "    lgbm_grid.fit(x, y)\n",
        "    print(lgbm_grid.best_params_)\n",
        "    return lgbm_grid\n",
        "\n",
        "# 최적의 하이퍼 파라미터로 학습된 모델을 lgbm_grid로 저장 \n",
        "# (교차검증은 3회)\n",
        "lgbm_grid = lgbm_param_selection(X_train, y_train, 3)\n",
        "\n",
        "prediction = lgbm_grid.predict(X_test)\n",
        "print(metrics.classification_report(y_test, prediction))   \n",
        "print('accuracy: %.8f'% accuracy_score(y_test, prediction))"
      ],
      "execution_count": null,
      "outputs": [
        {
          "output_type": "stream",
          "text": [
            "{'learning_rate': 0.05, 'max_depth': -1, 'min_data_in_leaf': 20, 'n_estimators': 400, 'num_leaves': 37}\n",
            "              precision    recall  f1-score   support\n",
            "\n",
            "       False       0.93      0.99      0.96       372\n",
            "        True       0.50      0.07      0.12        28\n",
            "\n",
            "    accuracy                           0.93       400\n",
            "   macro avg       0.72      0.53      0.54       400\n",
            "weighted avg       0.90      0.93      0.90       400\n",
            "\n",
            "accuracy: 0.93000000\n"
          ],
          "name": "stdout"
        }
      ]
    },
    {
      "cell_type": "markdown",
      "metadata": {
        "id": "SpN4gmNBnW2S"
      },
      "source": [
        "### 학습된 기반 분류기로 보팅 앙상블 실행"
      ]
    },
    {
      "cell_type": "markdown",
      "metadata": {
        "id": "kpuGrnjbW300"
      },
      "source": [
        "**지금까지 학습시킨 기반 분류기 4개의 정확도**"
      ]
    },
    {
      "cell_type": "code",
      "metadata": {
        "colab": {
          "base_uri": "https://localhost:8080/"
        },
        "id": "DU9DvMJZkXxx",
        "outputId": "c67a5f95-4a66-446e-8959-d74a80c4d1ea"
      },
      "source": [
        "print('accuracy 비교')\n",
        "print('KNN : %.8f' % accuracy_score(y_test, knn.predict(X_test)))\n",
        "print('SVC : %.8f' % accuracy_score(y_test, clf.predict(X_test)))\n",
        "print('GNB : %.8f' % accuracy_score(y_test, gnb.predict(X_test)))\n",
        "print('LGBM: %.8f' % accuracy_score(y_test, lgbm_wrapper.predict(X_test)))"
      ],
      "execution_count": null,
      "outputs": [
        {
          "output_type": "stream",
          "text": [
            "accuracy 비교\n",
            "KNN : 0.92750000\n",
            "SVC : 0.93000000\n",
            "GNB : 0.90750000\n",
            "LGBM: 0.93000000\n"
          ],
          "name": "stdout"
        }
      ]
    },
    {
      "cell_type": "markdown",
      "metadata": {
        "id": "Pi2i4md0Xblh"
      },
      "source": [
        "**하드 보팅: 분류기별 가중치 1:1:0.5:1**"
      ]
    },
    {
      "cell_type": "code",
      "metadata": {
        "colab": {
          "base_uri": "https://localhost:8080/"
        },
        "id": "CWpaSXsQG5Rv",
        "outputId": "f2f199f8-ccd6-4623-d695-8b736d541a37"
      },
      "source": [
        "hard4_voting_model0 = VotingClassifier(estimators=[\n",
        "    ('KNN', knn), ('SVM', clf), ('Gaussian Naive Bayes', gnb), ('Light GBM', lgbm_wrapper)],\n",
        "    weights=[1,1,0.5,1], voting='hard')             \n",
        "hard4_voting_model0.fit(X_train, y_train)\n",
        "hard4_voting_predicted = hard4_voting_model0.predict(X_test)\n",
        "print(metrics.classification_report(y_test, hard4_voting_predicted))   \n",
        "accuracy_score(y_test, hard4_voting_predicted)"
      ],
      "execution_count": null,
      "outputs": [
        {
          "output_type": "stream",
          "text": [
            "              precision    recall  f1-score   support\n",
            "\n",
            "       False       0.93      1.00      0.96       372\n",
            "        True       1.00      0.04      0.07        28\n",
            "\n",
            "    accuracy                           0.93       400\n",
            "   macro avg       0.97      0.52      0.52       400\n",
            "weighted avg       0.94      0.93      0.90       400\n",
            "\n"
          ],
          "name": "stdout"
        },
        {
          "output_type": "execute_result",
          "data": {
            "text/plain": [
              "0.9325"
            ]
          },
          "metadata": {
            "tags": []
          },
          "execution_count": 36
        }
      ]
    },
    {
      "cell_type": "markdown",
      "metadata": {
        "id": "2T_TO4kwXOzi"
      },
      "source": [
        "**하드 보팅: 분류기별 가중치 1:1:1:1**"
      ]
    },
    {
      "cell_type": "code",
      "metadata": {
        "colab": {
          "base_uri": "https://localhost:8080/"
        },
        "id": "q8VguVaGQ54f",
        "outputId": "f9a0b73f-4f7c-49cb-b9cb-9770de06aa04"
      },
      "source": [
        "hard4_voting_model1 = VotingClassifier(estimators=[\n",
        "    ('KNN', knn), ('SVM', clf), ('Gaussian Naive Bayes', gnb), ('Light GBM', lgbm_wrapper)],\n",
        "    weights=[1,1,1,1], voting='hard')             \n",
        "hard4_voting_model1.fit(X_train, y_train)\n",
        "hard4_voting_predicted = hard4_voting_model1.predict(X_test)\n",
        "print(metrics.classification_report(y_test, hard4_voting_predicted))   \n",
        "accuracy_score(y_test, hard4_voting_predicted)"
      ],
      "execution_count": null,
      "outputs": [
        {
          "output_type": "stream",
          "text": [
            "              precision    recall  f1-score   support\n",
            "\n",
            "       False       0.93      1.00      0.96       372\n",
            "        True       0.00      0.00      0.00        28\n",
            "\n",
            "    accuracy                           0.93       400\n",
            "   macro avg       0.47      0.50      0.48       400\n",
            "weighted avg       0.86      0.93      0.90       400\n",
            "\n"
          ],
          "name": "stdout"
        },
        {
          "output_type": "stream",
          "text": [
            "/usr/local/lib/python3.6/dist-packages/sklearn/metrics/_classification.py:1272: UndefinedMetricWarning: Precision and F-score are ill-defined and being set to 0.0 in labels with no predicted samples. Use `zero_division` parameter to control this behavior.\n",
            "  _warn_prf(average, modifier, msg_start, len(result))\n"
          ],
          "name": "stderr"
        },
        {
          "output_type": "execute_result",
          "data": {
            "text/plain": [
              "0.93"
            ]
          },
          "metadata": {
            "tags": []
          },
          "execution_count": 37
        }
      ]
    },
    {
      "cell_type": "markdown",
      "metadata": {
        "id": "OO-dQ0PS7Hml"
      },
      "source": [
        "**하드 보팅: 분류기별 가중치 1:1:2:1**"
      ]
    },
    {
      "cell_type": "code",
      "metadata": {
        "colab": {
          "base_uri": "https://localhost:8080/"
        },
        "id": "yhq23wn_5qvF",
        "outputId": "d7c8262d-9ee4-4d95-f102-262a4765c4d1"
      },
      "source": [
        "hard4_voting_model2 = VotingClassifier(estimators=[\n",
        "    ('KNN', knn), ('SVM', clf), ('Gaussian Naive Bayes', gnb), ('Light GBM', lgbm_wrapper)],\n",
        "    weights=[1,1,2,1], voting='hard')             \n",
        "hard4_voting_model2.fit(X_train, y_train)\n",
        "hard4_voting_predicted = hard4_voting_model2.predict(X_test)\n",
        "print(metrics.classification_report(y_test, hard4_voting_predicted))   \n",
        "accuracy_score(y_test, hard4_voting_predicted)"
      ],
      "execution_count": null,
      "outputs": [
        {
          "output_type": "stream",
          "text": [
            "              precision    recall  f1-score   support\n",
            "\n",
            "       False       0.93      1.00      0.96       372\n",
            "        True       0.50      0.04      0.07        28\n",
            "\n",
            "    accuracy                           0.93       400\n",
            "   macro avg       0.72      0.52      0.52       400\n",
            "weighted avg       0.90      0.93      0.90       400\n",
            "\n"
          ],
          "name": "stdout"
        },
        {
          "output_type": "execute_result",
          "data": {
            "text/plain": [
              "0.93"
            ]
          },
          "metadata": {
            "tags": []
          },
          "execution_count": 38
        }
      ]
    },
    {
      "cell_type": "markdown",
      "metadata": {
        "id": "lqIFc3I_XlkT"
      },
      "source": [
        "**하드 보팅: 기반 분류기를 나이브 베이즈와 LGBM만 사용하여 True값의 재현율 향상 시도(정확도는 하락)**"
      ]
    },
    {
      "cell_type": "code",
      "metadata": {
        "colab": {
          "base_uri": "https://localhost:8080/"
        },
        "id": "w4MR-k4ynpLh",
        "outputId": "2a13f0e1-ee51-42b3-d110-6694bc53c59b"
      },
      "source": [
        "hard2_voting_model = VotingClassifier(estimators=[\n",
        "    ('Gaussian Naive Bayes', gnb), ('LGBM', lgbm_wrapper)],\n",
        "    weights=[1,1], voting='hard')              \n",
        "hard2_voting_model.fit(X_train, y_train)\n",
        "hard2_voting_predicted = hard2_voting_model.predict(X_test)\n",
        "print(metrics.classification_report(y_test, hard2_voting_predicted))   \n",
        "accuracy_score(y_test, hard2_voting_predicted)"
      ],
      "execution_count": null,
      "outputs": [
        {
          "output_type": "stream",
          "text": [
            "              precision    recall  f1-score   support\n",
            "\n",
            "       False       0.93      1.00      0.96       372\n",
            "        True       0.50      0.04      0.07        28\n",
            "\n",
            "    accuracy                           0.93       400\n",
            "   macro avg       0.72      0.52      0.52       400\n",
            "weighted avg       0.90      0.93      0.90       400\n",
            "\n"
          ],
          "name": "stdout"
        },
        {
          "output_type": "execute_result",
          "data": {
            "text/plain": [
              "0.93"
            ]
          },
          "metadata": {
            "tags": []
          },
          "execution_count": 39
        }
      ]
    },
    {
      "cell_type": "markdown",
      "metadata": {
        "id": "qY4UcRzWYIPi"
      },
      "source": [
        "**소프트 보팅: 분류기별 가중치 1:1:0.5:1**"
      ]
    },
    {
      "cell_type": "code",
      "metadata": {
        "colab": {
          "base_uri": "https://localhost:8080/"
        },
        "id": "gLLC8wKQHHqS",
        "outputId": "00c1d6d0-bca6-46ff-d86d-04ec93105598"
      },
      "source": [
        "# 소프트 보팅 1:1:0.5:1\n",
        "soft4_voting_model0 = VotingClassifier(estimators=[\n",
        "    ('KNN', knn), ('SVM', clf), ('Gaussian Naive Bayes', gnb), ('Light GBM', lgbm_wrapper)],\n",
        "    weights=[1,1,0.5,1], voting='soft')\n",
        "soft4_voting_model0.fit(X_train, y_train)\n",
        "soft4_voting_predicted = soft4_voting_model0.predict(X_test)\n",
        "print(metrics.classification_report(y_test, soft4_voting_predicted))   \n",
        "accuracy_score(y_test, soft4_voting_predicted)"
      ],
      "execution_count": null,
      "outputs": [
        {
          "output_type": "stream",
          "text": [
            "              precision    recall  f1-score   support\n",
            "\n",
            "       False       0.93      1.00      0.96       372\n",
            "        True       0.00      0.00      0.00        28\n",
            "\n",
            "    accuracy                           0.93       400\n",
            "   macro avg       0.47      0.50      0.48       400\n",
            "weighted avg       0.86      0.93      0.90       400\n",
            "\n"
          ],
          "name": "stdout"
        },
        {
          "output_type": "stream",
          "text": [
            "/usr/local/lib/python3.6/dist-packages/sklearn/metrics/_classification.py:1272: UndefinedMetricWarning: Precision and F-score are ill-defined and being set to 0.0 in labels with no predicted samples. Use `zero_division` parameter to control this behavior.\n",
            "  _warn_prf(average, modifier, msg_start, len(result))\n"
          ],
          "name": "stderr"
        },
        {
          "output_type": "execute_result",
          "data": {
            "text/plain": [
              "0.93"
            ]
          },
          "metadata": {
            "tags": []
          },
          "execution_count": 40
        }
      ]
    },
    {
      "cell_type": "markdown",
      "metadata": {
        "id": "34U3LiNlYB7l"
      },
      "source": [
        "**소프트 보팅: 분류기별 가중치 1:1:1:1**"
      ]
    },
    {
      "cell_type": "code",
      "metadata": {
        "colab": {
          "base_uri": "https://localhost:8080/"
        },
        "id": "_opwJ45FQ59H",
        "outputId": "45a855e0-f325-4bf0-f690-9b3396dfa3ca"
      },
      "source": [
        "soft4_voting_model1 = VotingClassifier(estimators=[\n",
        "    ('KNN', knn), ('SVM', clf), ('Gaussian Naive Bayes', gnb), ('Light GBM', lgbm_wrapper)],\n",
        "    weights=[1,1,1,1], voting='soft')\n",
        "soft4_voting_model1.fit(X_train, y_train)\n",
        "soft4_voting_predicted = soft4_voting_model1.predict(X_test)\n",
        "print(metrics.classification_report(y_test, soft4_voting_predicted))   \n",
        "accuracy_score(y_test, soft4_voting_predicted)"
      ],
      "execution_count": null,
      "outputs": [
        {
          "output_type": "stream",
          "text": [
            "              precision    recall  f1-score   support\n",
            "\n",
            "       False       0.93      1.00      0.96       372\n",
            "        True       0.00      0.00      0.00        28\n",
            "\n",
            "    accuracy                           0.93       400\n",
            "   macro avg       0.47      0.50      0.48       400\n",
            "weighted avg       0.86      0.93      0.90       400\n",
            "\n"
          ],
          "name": "stdout"
        },
        {
          "output_type": "stream",
          "text": [
            "/usr/local/lib/python3.6/dist-packages/sklearn/metrics/_classification.py:1272: UndefinedMetricWarning: Precision and F-score are ill-defined and being set to 0.0 in labels with no predicted samples. Use `zero_division` parameter to control this behavior.\n",
            "  _warn_prf(average, modifier, msg_start, len(result))\n"
          ],
          "name": "stderr"
        },
        {
          "output_type": "execute_result",
          "data": {
            "text/plain": [
              "0.93"
            ]
          },
          "metadata": {
            "tags": []
          },
          "execution_count": 41
        }
      ]
    },
    {
      "cell_type": "markdown",
      "metadata": {
        "id": "WLzbFinf8kx_"
      },
      "source": [
        "**소프트 보팅: 분류기별 가중치 1:1:2:1**"
      ]
    },
    {
      "cell_type": "code",
      "metadata": {
        "colab": {
          "base_uri": "https://localhost:8080/"
        },
        "id": "_geYWHBM8RNM",
        "outputId": "9095f9c8-a527-4594-a2f9-a5d9c9d6af7e"
      },
      "source": [
        "soft4_voting_model2 = VotingClassifier(estimators=[\n",
        "    ('KNN', knn), ('SVM', clf), ('Gaussian Naive Bayes', gnb), ('Light GBM', lgbm_wrapper)],\n",
        "    weights=[1,1,2,1], voting='soft')\n",
        "soft4_voting_model2.fit(X_train, y_train)\n",
        "soft4_voting_predicted = soft4_voting_model2.predict(X_test)\n",
        "print(metrics.classification_report(y_test, soft4_voting_predicted))   \n",
        "accuracy_score(y_test, soft4_voting_predicted)"
      ],
      "execution_count": null,
      "outputs": [
        {
          "output_type": "stream",
          "text": [
            "              precision    recall  f1-score   support\n",
            "\n",
            "       False       0.93      0.99      0.96       372\n",
            "        True       0.33      0.04      0.06        28\n",
            "\n",
            "    accuracy                           0.93       400\n",
            "   macro avg       0.63      0.52      0.51       400\n",
            "weighted avg       0.89      0.93      0.90       400\n",
            "\n"
          ],
          "name": "stdout"
        },
        {
          "output_type": "execute_result",
          "data": {
            "text/plain": [
              "0.9275"
            ]
          },
          "metadata": {
            "tags": []
          },
          "execution_count": 42
        }
      ]
    },
    {
      "cell_type": "markdown",
      "metadata": {
        "id": "_vI3-tokYNbS"
      },
      "source": [
        "**소프트 보팅, 기반 분류기를 KNN, 나이브 베이즈, LGBM의 3개만 사용하여 True값의 재현율 향상 시도(정확도는 하락)**"
      ]
    },
    {
      "cell_type": "code",
      "metadata": {
        "colab": {
          "base_uri": "https://localhost:8080/"
        },
        "id": "FcQ5Q4Awnx2C",
        "outputId": "111c5339-53b6-4bdc-c2a1-83c21c02bc31"
      },
      "source": [
        "soft3_voting_model = VotingClassifier(estimators=[\n",
        "    ('KNN', knn), ('Gaussian Naive Bayes', gnb), ('Light GBM', lgbm_wrapper)],\n",
        "    weights=[1,2,1], voting='soft')\n",
        "soft3_voting_model.fit(X_train, y_train)\n",
        "soft3_voting_predicted = soft3_voting_model.predict(X_test)\n",
        "print(metrics.classification_report(y_test, soft3_voting_predicted))  \n",
        "accuracy_score(y_test, soft3_voting_predicted)"
      ],
      "execution_count": null,
      "outputs": [
        {
          "output_type": "stream",
          "text": [
            "              precision    recall  f1-score   support\n",
            "\n",
            "       False       0.94      0.97      0.95       372\n",
            "        True       0.23      0.11      0.15        28\n",
            "\n",
            "    accuracy                           0.91       400\n",
            "   macro avg       0.58      0.54      0.55       400\n",
            "weighted avg       0.89      0.91      0.90       400\n",
            "\n"
          ],
          "name": "stdout"
        },
        {
          "output_type": "execute_result",
          "data": {
            "text/plain": [
              "0.9125"
            ]
          },
          "metadata": {
            "tags": []
          },
          "execution_count": 43
        }
      ]
    },
    {
      "cell_type": "markdown",
      "metadata": {
        "id": "bImAhfWVGvKp"
      },
      "source": [
        "# 3-1. 랜덤 포레스트: 하이퍼 파라미터 설정 없이 학습하기"
      ]
    },
    {
      "cell_type": "markdown",
      "metadata": {
        "id": "Mog06Ke_ZVcq"
      },
      "source": [
        "**라이브러리 import, 모델 학습 및 테스트 결과 출력**"
      ]
    },
    {
      "cell_type": "code",
      "metadata": {
        "colab": {
          "base_uri": "https://localhost:8080/"
        },
        "id": "G30-arBcU2Rd",
        "outputId": "1b66dead-2576-4dd6-cd82-c98df69beb05"
      },
      "source": [
        "from sklearn.ensemble import RandomForestClassifier\n",
        "\n",
        "rf_clf = RandomForestClassifier(random_state = 10)  \n",
        " # 일관성 유지 위해 random_state 설정\n",
        "rf_clf.fit(X_train, y_train)\n",
        "\n",
        "rf_pred = rf_clf.predict(X_test)\n",
        "print(metrics.classification_report(y_test, rf_pred))   \n",
        "accuracy_rf = accuracy_score(y_test, rf_pred)\n",
        "print('random forest accuracy: {0:.8f}'.format(accuracy_rf))"
      ],
      "execution_count": null,
      "outputs": [
        {
          "output_type": "stream",
          "text": [
            "              precision    recall  f1-score   support\n",
            "\n",
            "       False       0.93      0.99      0.96       372\n",
            "        True       0.40      0.07      0.12        28\n",
            "\n",
            "    accuracy                           0.93       400\n",
            "   macro avg       0.67      0.53      0.54       400\n",
            "weighted avg       0.90      0.93      0.90       400\n",
            "\n",
            "random forest accuracy: 0.92750000\n"
          ],
          "name": "stdout"
        }
      ]
    },
    {
      "cell_type": "markdown",
      "metadata": {
        "id": "-rQTATHIZlBT"
      },
      "source": [
        "**모델 하이퍼 파라미터 확인**"
      ]
    },
    {
      "cell_type": "code",
      "metadata": {
        "colab": {
          "base_uri": "https://localhost:8080/"
        },
        "id": "7b1BlyBNU2Ux",
        "outputId": "794af991-7b65-4ab9-a8ea-acade437034f"
      },
      "source": [
        "print(rf_clf)"
      ],
      "execution_count": null,
      "outputs": [
        {
          "output_type": "stream",
          "text": [
            "RandomForestClassifier(bootstrap=True, ccp_alpha=0.0, class_weight=None,\n",
            "                       criterion='gini', max_depth=None, max_features='auto',\n",
            "                       max_leaf_nodes=None, max_samples=None,\n",
            "                       min_impurity_decrease=0.0, min_impurity_split=None,\n",
            "                       min_samples_leaf=1, min_samples_split=2,\n",
            "                       min_weight_fraction_leaf=0.0, n_estimators=100,\n",
            "                       n_jobs=None, oob_score=False, random_state=10, verbose=0,\n",
            "                       warm_start=False)\n"
          ],
          "name": "stdout"
        }
      ]
    },
    {
      "cell_type": "markdown",
      "metadata": {
        "id": "Xksc359MZuEd"
      },
      "source": [
        "**참고: 특징 중요도 확인**"
      ]
    },
    {
      "cell_type": "code",
      "metadata": {
        "colab": {
          "base_uri": "https://localhost:8080/",
          "height": 538
        },
        "id": "nOCyw0Y7U2XV",
        "outputId": "057a0634-c378-46f7-f6ab-4dc553275d1b"
      },
      "source": [
        "ft_importances_values = rf_clf.feature_importances_\n",
        "ft_importances_df = pd.DataFrame(ft_importances_values, index=X_train.columns, columns=['data'])\n",
        "print(ft_importances_df)\n",
        "plt.figure(figsize=(11,5))\n",
        "plt.title('feature importances')\n",
        "sns.barplot(x=ft_importances_df.index, y=ft_importances_df['data'])\n",
        "plt.show()"
      ],
      "execution_count": null,
      "outputs": [
        {
          "output_type": "stream",
          "text": [
            "           data\n",
            "성별     0.019259\n",
            "연령     0.083290\n",
            "시도     0.101772\n",
            "혈압     0.145233\n",
            "LDL    0.189379\n",
            "크레아티닌  0.099799\n",
            "ALT    0.183415\n",
            "흡연     0.037497\n",
            "체질량    0.140355\n"
          ],
          "name": "stdout"
        },
        {
          "output_type": "display_data",
          "data": {
            "image/png": "[encoded data removed]",
            "text/plain": [
              "<Figure size 792x360 with 1 Axes>"
            ]
          },
          "metadata": {
            "tags": [],
            "needs_background": "light"
          }
        }
      ]
    },
    {
      "cell_type": "markdown",
      "metadata": {
        "id": "SItoE1M0KcYF"
      },
      "source": [
        "# 3-2. 랜덤 포레스트: 하이퍼 파라미터 설정하여 학습하기"
      ]
    },
    {
      "cell_type": "markdown",
      "metadata": {
        "id": "396ssEosackD"
      },
      "source": [
        "**GridSearchCV를 사용하여 최적의 하이퍼 파라미터 탐색**"
      ]
    },
    {
      "cell_type": "code",
      "metadata": {
        "colab": {
          "base_uri": "https://localhost:8080/"
        },
        "id": "giiJTc8LU2Z3",
        "outputId": "17270acf-3060-4f4f-da0d-07e5223cd057"
      },
      "source": [
        "rf_param_grid = {\n",
        "    'n_estimators': [80, 100, 120],   # 모델에서 사용할 트리 개수\n",
        "    'min_samples_leaf': [1,2,3],      # 리프 노드가 되기 위한 최소 샘플 데이터 개수\n",
        "    'min_samples_split': [2,3,4]      # 자식 노드를 갖기 위한 최소 데이터 개수\n",
        "}\n",
        "rf_clf1 = RandomForestClassifier(random_state = 10)   \n",
        "grid = GridSearchCV(rf_clf1, param_grid = rf_param_grid,\n",
        "                   scoring='accuracy', n_jobs=1)\n",
        "grid.fit(X_train, y_train)"
      ],
      "execution_count": null,
      "outputs": [
        {
          "output_type": "execute_result",
          "data": {
            "text/plain": [
              "GridSearchCV(cv=None, error_score=nan,\n",
              "             estimator=RandomForestClassifier(bootstrap=True, ccp_alpha=0.0,\n",
              "                                              class_weight=None,\n",
              "                                              criterion='gini', max_depth=None,\n",
              "                                              max_features='auto',\n",
              "                                              max_leaf_nodes=None,\n",
              "                                              max_samples=None,\n",
              "                                              min_impurity_decrease=0.0,\n",
              "                                              min_impurity_split=None,\n",
              "                                              min_samples_leaf=1,\n",
              "                                              min_samples_split=2,\n",
              "                                              min_weight_fraction_leaf=0.0,\n",
              "                                              n_estimators=100, n_jobs=None,\n",
              "                                              oob_score=False, random_state=10,\n",
              "                                              verbose=0, warm_start=False),\n",
              "             iid='deprecated', n_jobs=1,\n",
              "             param_grid={'min_samples_leaf': [1, 2, 3],\n",
              "                         'min_samples_split': [2, 3, 4],\n",
              "                         'n_estimators': [80, 100, 120]},\n",
              "             pre_dispatch='2*n_jobs', refit=True, return_train_score=False,\n",
              "             scoring='accuracy', verbose=0)"
            ]
          },
          "metadata": {
            "tags": []
          },
          "execution_count": 47
        }
      ]
    },
    {
      "cell_type": "code",
      "metadata": {
        "colab": {
          "base_uri": "https://localhost:8080/"
        },
        "id": "OVBph58dU2cf",
        "outputId": "c33bd450-10fe-4509-cced-9ce6aca261b5"
      },
      "source": [
        "rf_grid_pred = grid.predict(X_test)\n",
        "accuracy_grid = accuracy_score(y_test, rf_grid_pred)\n",
        "print('rf_grid accuracy: {0:.8f}'.format(accuracy_grid))    \n",
        "print(grid.best_params_)"
      ],
      "execution_count": null,
      "outputs": [
        {
          "output_type": "stream",
          "text": [
            "              precision    recall  f1-score   support\n",
            "\n",
            "       False       0.93      0.99      0.96       372\n",
            "        True       0.50      0.07      0.12        28\n",
            "\n",
            "    accuracy                           0.93       400\n",
            "   macro avg       0.72      0.53      0.54       400\n",
            "weighted avg       0.90      0.93      0.90       400\n",
            "\n",
            "rf_grid accuracy: 0.93000000\n",
            "{'min_samples_leaf': 2, 'min_samples_split': 2, 'n_estimators': 120}\n"
          ],
          "name": "stdout"
        }
      ]
    },
    {
      "cell_type": "markdown",
      "metadata": {
        "id": "RM6CitFVBk3z"
      },
      "source": [
        "# 4-1. 케라스 로지스틱 회귀: 하이퍼 파라미터 설정 없이 학습하기"
      ]
    },
    {
      "cell_type": "markdown",
      "metadata": {
        "id": "ONfPvAXOawKJ"
      },
      "source": [
        "**라이브러리 import**"
      ]
    },
    {
      "cell_type": "code",
      "metadata": {
        "id": "MR3GhRjVhhqN"
      },
      "source": [
        "from tensorflow.keras.models import Sequential\n",
        "from tensorflow.keras.layers import Dense, Activation\n",
        "from tensorflow.keras.layers import Dropout\n",
        "import tensorflow as tf"
      ],
      "execution_count": null,
      "outputs": []
    },
    {
      "cell_type": "markdown",
      "metadata": {
        "id": "6JWCc9OpcVsE"
      },
      "source": [
        "**실행할 때마다 같은 결과를 얻기 위해 seed 설정**"
      ]
    },
    {
      "cell_type": "code",
      "metadata": {
        "id": "mlZQzlMEwrUn"
      },
      "source": [
        "np.random.seed(3)\n",
        "tf.random.set_seed(3)"
      ],
      "execution_count": null,
      "outputs": []
    },
    {
      "cell_type": "markdown",
      "metadata": {
        "id": "sJyiu5o9cbTM"
      },
      "source": [
        "**모델 설정, 학습 및 결과 출력**"
      ]
    },
    {
      "cell_type": "code",
      "metadata": {
        "id": "aob5N5HtaQU7"
      },
      "source": [
        "LoR = Sequential()\n",
        "LoR.add(Dense(input_dim=9, units=1))   # 입력값 9개, 출력값 1개\n",
        "LoR.add(Activation('sigmoid'))         \n",
        " # 히든 레이어의 출력값을 시그모이드에 연결\n",
        "LoR.compile(loss='binary_crossentropy', optimizer='sgd', \n",
        "            metrics=['binary_accuracy'])  \n",
        " # 비용함수는 크로스 엔트로피, 경사하강법으로 학습"
      ],
      "execution_count": null,
      "outputs": []
    },
    {
      "cell_type": "code",
      "metadata": {
        "colab": {
          "base_uri": "https://localhost:8080/"
        },
        "id": "JwSx3rGraQTt",
        "outputId": "2c9ca91d-c3b0-45fd-80fa-ca4700457778"
      },
      "source": [
        "LoR.fit(X_train, y_train, epochs=100, verbose=0)"
      ],
      "execution_count": null,
      "outputs": [
        {
          "output_type": "execute_result",
          "data": {
            "text/plain": [
              "<tensorflow.python.keras.callbacks.History at 0x7f779e79ffd0>"
            ]
          },
          "metadata": {
            "tags": []
          },
          "execution_count": 52
        }
      ]
    },
    {
      "cell_type": "code",
      "metadata": {
        "colab": {
          "base_uri": "https://localhost:8080/"
        },
        "id": "RETMVWjvaQOg",
        "outputId": "c9537796-dc63-4ce7-f284-2434902cbb91"
      },
      "source": [
        "print('Accuracy: %.8f' % (LoR.evaluate(X_test, y_test)[1]))     \r\n",
        " # 케라스는 정확도 표시를 위해 evaluate을 씀"
      ],
      "execution_count": null,
      "outputs": [
        {
          "output_type": "stream",
          "text": [
            "13/13 [==============================] - 0s 1ms/step - loss: 1.6556 - binary_accuracy: 0.8575\n",
            "Accuracy: 0.85750002\n"
          ],
          "name": "stdout"
        }
      ]
    },
    {
      "cell_type": "code",
      "metadata": {
        "colab": {
          "base_uri": "https://localhost:8080/"
        },
        "id": "lvuIRLOsYWTI",
        "outputId": "af8befb8-28ed-4bd4-a14a-f50c33f1c67e"
      },
      "source": [
        "LoR.summary()"
      ],
      "execution_count": null,
      "outputs": [
        {
          "output_type": "stream",
          "text": [
            "Model: \"sequential\"\n",
            "_________________________________________________________________\n",
            "Layer (type)                 Output Shape              Param #   \n",
            "=================================================================\n",
            "dense (Dense)                (None, 1)                 10        \n",
            "_________________________________________________________________\n",
            "activation (Activation)      (None, 1)                 0         \n",
            "=================================================================\n",
            "Total params: 10\n",
            "Trainable params: 10\n",
            "Non-trainable params: 0\n",
            "_________________________________________________________________\n"
          ],
          "name": "stdout"
        }
      ]
    },
    {
      "cell_type": "code",
      "metadata": {
        "colab": {
          "base_uri": "https://localhost:8080/"
        },
        "id": "oJDbpCM6DSNi",
        "outputId": "9179ed22-93c6-4d92-a53e-96a280e509a8"
      },
      "source": [
        "LoR.layers[0].get_weights()  # 회귀계수(w,b) 값 보기"
      ],
      "execution_count": null,
      "outputs": [
        {
          "output_type": "execute_result",
          "data": {
            "text/plain": [
              "[array([[-1.1399403 ],\n",
              "        [ 0.5295256 ],\n",
              "        [-0.20230809],\n",
              "        [ 0.0191874 ],\n",
              "        [-0.21182269],\n",
              "        [ 0.5417293 ],\n",
              "        [ 0.34067467],\n",
              "        [ 0.06938538],\n",
              "        [-0.8452538 ]], dtype=float32), array([-0.10288844], dtype=float32)]"
            ]
          },
          "metadata": {
            "tags": []
          },
          "execution_count": 55
        }
      ]
    },
    {
      "cell_type": "markdown",
      "metadata": {
        "id": "sf0VyZnNCK7R"
      },
      "source": [
        "# 4-2. 케라스 로지스틱 회귀: 하이퍼 파라미터 설정 및 히든 레이어 추가"
      ]
    },
    {
      "cell_type": "markdown",
      "metadata": {
        "id": "pnp74jdLdzaq"
      },
      "source": [
        "**히든 레이어 추가. 레이어별 노드 수를 각각 12개, 8개, 1개로 잡고, Dropout=20%, optimizer=adam**\n"
      ]
    },
    {
      "cell_type": "code",
      "metadata": {
        "colab": {
          "base_uri": "https://localhost:8080/"
        },
        "id": "H4-ffTCIQHpb",
        "outputId": "f77a7393-c549-44b7-90e3-d6f1a64d44dc"
      },
      "source": [
        "LoR1 = Sequential()\n",
        "LoR1.add(Dense(12, input_dim=9, activation='relu'))\n",
        "LoR1.add(Dense(8, activation='relu'))\n",
        "LoR1.add(Dropout(0.2))     # 두 번째 히든 레이어에 드롭아웃 20% 적용\n",
        "LoR1.add(Dense(1, activation='sigmoid'))\n",
        "\n",
        "LoR1.compile(loss='binary_crossentropy', optimizer='adam', \n",
        "             metrics=['binary_accuracy'])\n",
        "LoR1.fit(X_train, y_train, epochs=100, verbose=0)\n",
        "print('Accuracy: %.8f' % (LoR1.evaluate(X_test, y_test)[1]))    "
      ],
      "execution_count": null,
      "outputs": [
        {
          "output_type": "stream",
          "text": [
            "13/13 [==============================] - 0s 1ms/step - loss: 0.2620 - binary_accuracy: 0.9300\n",
            "Accuracy: 0.93000001\n"
          ],
          "name": "stdout"
        }
      ]
    },
    {
      "cell_type": "markdown",
      "metadata": {
        "id": "dYJQfqieeBsw"
      },
      "source": [
        "**레이어별 노드 수를 증가시켜서 24개, 16개, 1개로. Dropout=10% (optimizer=adam 유지)**"
      ]
    },
    {
      "cell_type": "code",
      "metadata": {
        "colab": {
          "base_uri": "https://localhost:8080/"
        },
        "id": "BtZSIYirpP6S",
        "outputId": "89cf33bb-a2f2-4f31-c9a9-bd4d0df34643"
      },
      "source": [
        "LoR2 = Sequential()\n",
        "LoR2.add(Dense(24, input_dim=9, activation='relu'))\n",
        "LoR2.add(Dense(16, activation='relu'))\n",
        "LoR2.add(Dropout(0.1))     \n",
        "LoR2.add(Dense(1, activation='sigmoid'))\n",
        "\n",
        "LoR2.compile(loss='binary_crossentropy', optimizer='adam', metrics=['binary_accuracy'])\n",
        "LoR2.fit(X_train, y_train, epochs=100, verbose=0)\n",
        "print('Accuracy: %.8f' % (LoR2.evaluate(X_test, y_test)[1]))    "
      ],
      "execution_count": null,
      "outputs": [
        {
          "output_type": "stream",
          "text": [
            "13/13 [==============================] - 0s 1ms/step - loss: 0.2827 - binary_accuracy: 0.9300\n",
            "Accuracy: 0.93000001\n"
          ],
          "name": "stdout"
        }
      ]
    },
    {
      "cell_type": "markdown",
      "metadata": {
        "id": "wn1eSP6eeJwI"
      },
      "source": [
        "**레이어별 노드 수를 변화시켜서 각각 30개, 6개, 1개로. batch_size=64 (Dropout=10%, optimizer=adam 유지)**"
      ]
    },
    {
      "cell_type": "code",
      "metadata": {
        "colab": {
          "base_uri": "https://localhost:8080/"
        },
        "id": "tCSE674s0W1E",
        "outputId": "8ffeaa52-3c0f-44d4-8fa2-3538490dbb13"
      },
      "source": [
        "LoR3 = Sequential()\n",
        "LoR3.add(Dense(30, input_dim=9, activation='relu'))\n",
        "LoR3.add(Dense(6, activation='relu'))\n",
        "LoR3.add(Dropout(0.3))     \n",
        "LoR3.add(Dense(1, activation='sigmoid'))\n",
        "\n",
        "LoR3.compile(loss='binary_crossentropy', optimizer='adam', metrics=['binary_accuracy'])\n",
        "LoR3.fit(X_train, y_train, epochs=100, batch_size=64, verbose=0)\n",
        "print('Accuracy: %.8f' % (LoR3.evaluate(X_test, y_test)[1]))  "
      ],
      "execution_count": null,
      "outputs": [
        {
          "output_type": "stream",
          "text": [
            "13/13 [==============================] - 0s 1ms/step - loss: 0.2589 - binary_accuracy: 0.9300\n",
            "Accuracy: 0.93000001\n"
          ],
          "name": "stdout"
        }
      ]
    },
    {
      "cell_type": "markdown",
      "metadata": {
        "id": "emjIbxBQeO0X"
      },
      "source": [
        "**Dropout=20%, batch_size=64 (레이어별 노드 30/6/1, optimizer=adam 유지)**"
      ]
    },
    {
      "cell_type": "code",
      "metadata": {
        "colab": {
          "base_uri": "https://localhost:8080/"
        },
        "id": "i7vPjsXy9uEN",
        "outputId": "b7ef043d-d987-49db-ea3a-97e95af8b0b8"
      },
      "source": [
        "LoR4 = Sequential()\n",
        "LoR4.add(Dense(30, input_dim=9, activation='relu'))\n",
        "LoR4.add(Dense(6, activation='relu'))\n",
        "LoR4.add(Dropout(0.2))     \n",
        "LoR4.add(Dense(1, activation='sigmoid'))\n",
        "\n",
        "LoR4.compile(loss='binary_crossentropy', optimizer='adam', metrics=['binary_accuracy'])\n",
        "LoR4.fit(X_train, y_train, epochs=100, batch_size=64, verbose=0)\n",
        "print('Accuracy: %.8f' % (LoR4.evaluate(X_test, y_test)[1]))  "
      ],
      "execution_count": null,
      "outputs": [
        {
          "output_type": "stream",
          "text": [
            "13/13 [==============================] - 0s 1ms/step - loss: 0.2994 - binary_accuracy: 0.9300\n",
            "Accuracy: 0.93000001\n"
          ],
          "name": "stdout"
        }
      ]
    },
    {
      "cell_type": "markdown",
      "metadata": {
        "id": "VhftkF5eDhoP"
      },
      "source": [
        "#  5 추가: 데이터 건수를 1만 개로 늘려서 LGBM과 로지스틱 회귀(Keras)의 정확도 개선 여부 확인"
      ]
    },
    {
      "cell_type": "markdown",
      "metadata": {
        "id": "-6JsmphReYpZ"
      },
      "source": [
        "**Light GBM은 1만 건 이하의 데이터 셋에서 과대적합이 발생하기 쉽다고 합니다. 데이터 건수를 2천개에서 1만 개로 늘려 보겠습니다**"
      ]
    },
    {
      "cell_type": "code",
      "metadata": {
        "colab": {
          "base_uri": "https://localhost:8080/"
        },
        "id": "7EUIASM7YWNC",
        "outputId": "60710034-f8e4-448b-dd64-284735cc45c3"
      },
      "source": [
        "dfm = df_10k\n",
        "dfm.info()"
      ],
      "execution_count": null,
      "outputs": [
        {
          "output_type": "stream",
          "text": [
            "<class 'pandas.core.frame.DataFrame'>\n",
            "Int64Index: 10969 entries, 0 to 10999\n",
            "Data columns (total 13 columns):\n",
            " #   Column  Non-Null Count  Dtype  \n",
            "---  ------  --------------  -----  \n",
            " 0   성별      10969 non-null  int64  \n",
            " 1   연령      10969 non-null  int64  \n",
            " 2   시도      10969 non-null  int64  \n",
            " 3   신장      10969 non-null  float64\n",
            " 4   체중      10969 non-null  float64\n",
            " 5   혈압      10969 non-null  float64\n",
            " 6   혈당      10969 non-null  int64  \n",
            " 7   LDL     10969 non-null  float64\n",
            " 8   크레아티닌   10969 non-null  float64\n",
            " 9   ALT     10969 non-null  int64  \n",
            " 10  흡연      10969 non-null  float64\n",
            " 11  체질량     10969 non-null  float64\n",
            " 12  당뇨      10969 non-null  bool   \n",
            "dtypes: bool(1), float64(7), int64(5)\n",
            "memory usage: 1.1 MB\n"
          ],
          "name": "stdout"
        }
      ]
    },
    {
      "cell_type": "code",
      "metadata": {
        "id": "Q7bsJTWHYWQK"
      },
      "source": [
        "X1 = dfm[['성별', '연령', '시도', '혈압', 'LDL', '크레아티닌', 'ALT', '흡연', '체질량']]\n",
        "y1 = dfm['당뇨']\n",
        "\n",
        "X1_train, X1_test, y1_train, y1_test = train_test_split(X1, y1, test_size=0.2, random_state=45)"
      ],
      "execution_count": null,
      "outputs": []
    },
    {
      "cell_type": "code",
      "metadata": {
        "colab": {
          "base_uri": "https://localhost:8080/"
        },
        "id": "Q-_tzbNMaQEL",
        "outputId": "3000147f-89cd-478d-cbc3-0889cba5b143"
      },
      "source": [
        "lgbm_wrapper10 = LGBMClassifier(n_estimators=200)\n",
        "\n",
        "evals1 = [(X1_test, y1_test)]\n",
        "lgbm_wrapper10.fit(X1_train, y1_train, early_stopping_rounds=100, eval_metric='logloss',\n",
        "                 eval_set=evals1, verbose=False)\n",
        "pred1 = lgbm_wrapper10.predict(X1_test)\n",
        "\n",
        "print(metrics.classification_report(y1_test, pred1))  \n",
        "print('accuracy: %.8f'% accuracy_score(y1_test, pred1))"
      ],
      "execution_count": null,
      "outputs": [
        {
          "output_type": "stream",
          "text": [
            "              precision    recall  f1-score   support\n",
            "\n",
            "       False       0.92      1.00      0.96      2016\n",
            "        True       0.00      0.00      0.00       178\n",
            "\n",
            "    accuracy                           0.92      2194\n",
            "   macro avg       0.46      0.50      0.48      2194\n",
            "weighted avg       0.84      0.92      0.88      2194\n",
            "\n",
            "accuracy: 0.91841386\n"
          ],
          "name": "stdout"
        }
      ]
    },
    {
      "cell_type": "code",
      "metadata": {
        "colab": {
          "base_uri": "https://localhost:8080/"
        },
        "id": "uPXl2YwPaQLU",
        "outputId": "e6266d84-bad9-4300-b5c7-8a9268afdad0"
      },
      "source": [
        "X1_train, X1_test, y1_train, y1_test = train_test_split(X1, y1, test_size=0.2, random_state=15)\n",
        "\n",
        "lgbm_wrapper11 = LGBMClassifier(n_estimators=200)\n",
        "\n",
        "evals1 = [(X1_test, y1_test)]\n",
        "lgbm_wrapper11.fit(X1_train, y1_train, early_stopping_rounds=100, eval_metric='logloss',\n",
        "                 eval_set=evals1, verbose=False)\n",
        "pred1 = lgbm_wrapper11.predict(X1_test)\n",
        "print('accuracy: %.8f'% accuracy_score(y1_test, pred1))"
      ],
      "execution_count": null,
      "outputs": [
        {
          "output_type": "stream",
          "text": [
            "accuracy: 0.92752963\n"
          ],
          "name": "stdout"
        }
      ]
    },
    {
      "cell_type": "markdown",
      "metadata": {
        "id": "zNZrRrXafWkn"
      },
      "source": [
        " **--> 데이터 건수가 1만개로 늘었다고 해서 정확도가 개선되지는 않음**"
      ]
    },
    {
      "cell_type": "markdown",
      "metadata": {
        "id": "wP-HM2jwoYSY"
      },
      "source": [
        "**로지스틱 회귀의 데이터 건수를 1만 개로 하여 정확도가 향상되는지 확인**"
      ]
    },
    {
      "cell_type": "code",
      "metadata": {
        "colab": {
          "base_uri": "https://localhost:8080/"
        },
        "id": "Tk34rSBmKjrk",
        "outputId": "5eb00712-1efb-487e-f357-35b6f9e25369"
      },
      "source": [
        "# 앞서 최고의 정확도를 보였던 설정 사용: 레이어별 노드 수 각각 24개, 16개, 1개. Dropout=10%, batch_size=32, optimizer=adam\n",
        "LoR10 = Sequential()\n",
        "LoR10.add(Dense(24, input_dim=9, activation='relu'))\n",
        "LoR10.add(Dense(16, activation='relu'))\n",
        "LoR10.add(Dropout(0.1))     \n",
        "LoR10.add(Dense(1, activation='sigmoid'))\n",
        "\n",
        "LoR10.compile(loss='binary_crossentropy', optimizer='adam', metrics=['binary_accuracy'])\n",
        "LoR10.fit(X1_train, y1_train, epochs=100, batch_size=32, verbose=0)\n",
        "print('Accuracy: %.8f' % (LoR10.evaluate(X1_test, y1_test)[1]))  "
      ],
      "execution_count": null,
      "outputs": [
        {
          "output_type": "stream",
          "text": [
            "69/69 [==============================] - 0s 896us/step - loss: 0.2354 - binary_accuracy: 0.9284\n",
            "Accuracy: 0.92844123\n"
          ],
          "name": "stdout"
        }
      ]
    },
    {
      "cell_type": "code",
      "metadata": {
        "colab": {
          "base_uri": "https://localhost:8080/"
        },
        "id": "Ab6RGntYKkZb",
        "outputId": "c4432dd4-7387-4fac-f80a-e5e9e794d3d9"
      },
      "source": [
        "############### 레이어별 노드 수 각각 30개, 6개, 1개. Dropout=20%, batch_size=64 (optimizer=adam)\n",
        "LoR11 = Sequential()\n",
        "LoR11.add(Dense(30, input_dim=9, activation='relu'))\n",
        "LoR11.add(Dense(6, activation='relu'))\n",
        "LoR11.add(Dropout(0.2))     \n",
        "LoR11.add(Dense(1, activation='sigmoid'))\n",
        "\n",
        "LoR11.compile(loss='binary_crossentropy', optimizer='adam', metrics=['binary_accuracy'])\n",
        "LoR11.fit(X1_train, y1_train, epochs=100, batch_size=64, verbose=0)\n",
        "print('Accuracy: %.8f' % (LoR11.evaluate(X1_test, y1_test)[1]))  "
      ],
      "execution_count": null,
      "outputs": [
        {
          "output_type": "stream",
          "text": [
            "69/69 [==============================] - 0s 910us/step - loss: 0.2408 - binary_accuracy: 0.9280\n",
            "Accuracy: 0.92798543\n"
          ],
          "name": "stdout"
        }
      ]
    },
    {
      "cell_type": "code",
      "metadata": {
        "colab": {
          "base_uri": "https://localhost:8080/"
        },
        "id": "L-qfxsSZE5dl",
        "outputId": "f9028c37-173b-4941-bf98-e413579c4465"
      },
      "source": [
        "############### 레이어별 노드 수를 각각 12개, 8개, 1개로 잡고, batch_size=default(32) (Dropout=20%, optimizer=adam)\n",
        "LoR12 = Sequential()\n",
        "LoR12.add(Dense(12, input_dim=9, activation='relu'))\n",
        "LoR12.add(Dense(8, activation='relu'))\n",
        "LoR12.add(Dropout(0.2))     # 두 번째 히든 레이어에 드롭아웃 20% 적용\n",
        "LoR12.add(Dense(1, activation='sigmoid'))\n",
        "\n",
        "LoR12.compile(loss='binary_crossentropy', optimizer='adam', metrics=['binary_accuracy'])\n",
        "LoR12.fit(X1_train, y1_train, epochs=100, verbose=0)\n",
        "print('Accuracy: %.8f' % (LoR12.evaluate(X1_test, y1_test)[1]))  "
      ],
      "execution_count": null,
      "outputs": [
        {
          "output_type": "stream",
          "text": [
            "69/69 [==============================] - 0s 964us/step - loss: 0.2364 - binary_accuracy: 0.9284\n",
            "Accuracy: 0.92844123\n"
          ],
          "name": "stdout"
        }
      ]
    },
    {
      "cell_type": "markdown",
      "metadata": {
        "id": "tTFO1k5df6Tu"
      },
      "source": [
        "**--> 데이터 건수가 1만개로 늘었다고 해서 정확도가 개선되지는 않음**"
      ]
    },
    {
      "cell_type": "markdown",
      "metadata": {
        "id": "9alN87lxF1Nt"
      },
      "source": [
        "# 5 기타: Keras 로지스틱 회귀를 보팅 앙상블의 기본 분류기로 포함시키기 시도 --> 에러 발생함"
      ]
    },
    {
      "cell_type": "code",
      "metadata": {
        "colab": {
          "base_uri": "https://localhost:8080/",
          "height": 394
        },
        "id": "gI0iv2PMpP-b",
        "outputId": "2f69bac3-57f9-4f69-8adc-a7c08555b997"
      },
      "source": [
        "voting_model = VotingClassifier(estimators=[\n",
        "    ('KNN', knn), ('SVM', clf), ('Gaussian Naive Bayes', gnb), ('Logistic Regression Keras', LoR)],\n",
        "    weights=[1,1,1,1], voting='soft')\n",
        "voting_model.fit(X_train, y_train)\n",
        "soft_voting_predicted = voting_model.predict(X_test)\n",
        "accuracy_score(y_test, soft_voting_predicted)"
      ],
      "execution_count": null,
      "outputs": [
        {
          "output_type": "error",
          "ename": "ValueError",
          "evalue": "ignored",
          "traceback": [
            "\u001b[0;31m---------------------------------------------------------------------------\u001b[0m",
            "\u001b[0;31mValueError\u001b[0m                                Traceback (most recent call last)",
            "\u001b[0;32m<ipython-input-67-e6e767d5363c>\u001b[0m in \u001b[0;36m<module>\u001b[0;34m()\u001b[0m\n\u001b[1;32m      2\u001b[0m     ('KNN', knn), ('SVM', clf), ('Gaussian Naive Bayes', gnb), ('Logistic Regression Keras', LoR)],\n\u001b[1;32m      3\u001b[0m     weights=[1,1,1,1], voting='soft')\n\u001b[0;32m----> 4\u001b[0;31m \u001b[0mvoting_model\u001b[0m\u001b[0;34m.\u001b[0m\u001b[0mfit\u001b[0m\u001b[0;34m(\u001b[0m\u001b[0mX_train\u001b[0m\u001b[0;34m,\u001b[0m \u001b[0my_train\u001b[0m\u001b[0;34m)\u001b[0m\u001b[0;34m\u001b[0m\u001b[0;34m\u001b[0m\u001b[0m\n\u001b[0m\u001b[1;32m      5\u001b[0m \u001b[0msoft_voting_predicted\u001b[0m \u001b[0;34m=\u001b[0m \u001b[0mvoting_model\u001b[0m\u001b[0;34m.\u001b[0m\u001b[0mpredict\u001b[0m\u001b[0;34m(\u001b[0m\u001b[0mX_test\u001b[0m\u001b[0;34m)\u001b[0m\u001b[0;34m\u001b[0m\u001b[0;34m\u001b[0m\u001b[0m\n\u001b[1;32m      6\u001b[0m \u001b[0maccuracy_score\u001b[0m\u001b[0;34m(\u001b[0m\u001b[0my_test\u001b[0m\u001b[0;34m,\u001b[0m \u001b[0msoft_voting_predicted\u001b[0m\u001b[0;34m)\u001b[0m\u001b[0;34m\u001b[0m\u001b[0;34m\u001b[0m\u001b[0m\n",
            "\u001b[0;32m/usr/local/lib/python3.6/dist-packages/sklearn/ensemble/_voting.py\u001b[0m in \u001b[0;36mfit\u001b[0;34m(self, X, y, sample_weight)\u001b[0m\n\u001b[1;32m    220\u001b[0m         \u001b[0mtransformed_y\u001b[0m \u001b[0;34m=\u001b[0m \u001b[0mself\u001b[0m\u001b[0;34m.\u001b[0m\u001b[0mle_\u001b[0m\u001b[0;34m.\u001b[0m\u001b[0mtransform\u001b[0m\u001b[0;34m(\u001b[0m\u001b[0my\u001b[0m\u001b[0;34m)\u001b[0m\u001b[0;34m\u001b[0m\u001b[0;34m\u001b[0m\u001b[0m\n\u001b[1;32m    221\u001b[0m \u001b[0;34m\u001b[0m\u001b[0m\n\u001b[0;32m--> 222\u001b[0;31m         \u001b[0;32mreturn\u001b[0m \u001b[0msuper\u001b[0m\u001b[0;34m(\u001b[0m\u001b[0;34m)\u001b[0m\u001b[0;34m.\u001b[0m\u001b[0mfit\u001b[0m\u001b[0;34m(\u001b[0m\u001b[0mX\u001b[0m\u001b[0;34m,\u001b[0m \u001b[0mtransformed_y\u001b[0m\u001b[0;34m,\u001b[0m \u001b[0msample_weight\u001b[0m\u001b[0;34m)\u001b[0m\u001b[0;34m\u001b[0m\u001b[0;34m\u001b[0m\u001b[0m\n\u001b[0m\u001b[1;32m    223\u001b[0m \u001b[0;34m\u001b[0m\u001b[0m\n\u001b[1;32m    224\u001b[0m     \u001b[0;32mdef\u001b[0m \u001b[0mpredict\u001b[0m\u001b[0;34m(\u001b[0m\u001b[0mself\u001b[0m\u001b[0;34m,\u001b[0m \u001b[0mX\u001b[0m\u001b[0;34m)\u001b[0m\u001b[0;34m:\u001b[0m\u001b[0;34m\u001b[0m\u001b[0;34m\u001b[0m\u001b[0m\n",
            "\u001b[0;32m/usr/local/lib/python3.6/dist-packages/sklearn/ensemble/_voting.py\u001b[0m in \u001b[0;36mfit\u001b[0;34m(self, X, y, sample_weight)\u001b[0m\n\u001b[1;32m     55\u001b[0m     \u001b[0;32mdef\u001b[0m \u001b[0mfit\u001b[0m\u001b[0;34m(\u001b[0m\u001b[0mself\u001b[0m\u001b[0;34m,\u001b[0m \u001b[0mX\u001b[0m\u001b[0;34m,\u001b[0m \u001b[0my\u001b[0m\u001b[0;34m,\u001b[0m \u001b[0msample_weight\u001b[0m\u001b[0;34m=\u001b[0m\u001b[0;32mNone\u001b[0m\u001b[0;34m)\u001b[0m\u001b[0;34m:\u001b[0m\u001b[0;34m\u001b[0m\u001b[0;34m\u001b[0m\u001b[0m\n\u001b[1;32m     56\u001b[0m         \u001b[0;34m\"\"\"Get common fit operations.\"\"\"\u001b[0m\u001b[0;34m\u001b[0m\u001b[0;34m\u001b[0m\u001b[0m\n\u001b[0;32m---> 57\u001b[0;31m         \u001b[0mnames\u001b[0m\u001b[0;34m,\u001b[0m \u001b[0mclfs\u001b[0m \u001b[0;34m=\u001b[0m \u001b[0mself\u001b[0m\u001b[0;34m.\u001b[0m\u001b[0m_validate_estimators\u001b[0m\u001b[0;34m(\u001b[0m\u001b[0;34m)\u001b[0m\u001b[0;34m\u001b[0m\u001b[0;34m\u001b[0m\u001b[0m\n\u001b[0m\u001b[1;32m     58\u001b[0m \u001b[0;34m\u001b[0m\u001b[0m\n\u001b[1;32m     59\u001b[0m         if (self.weights is not None and\n",
            "\u001b[0;32m/usr/local/lib/python3.6/dist-packages/sklearn/ensemble/_base.py\u001b[0m in \u001b[0;36m_validate_estimators\u001b[0;34m(self)\u001b[0m\n\u001b[1;32m    247\u001b[0m                 raise ValueError(\n\u001b[1;32m    248\u001b[0m                     \"The estimator {} should be a {}.\".format(\n\u001b[0;32m--> 249\u001b[0;31m                         \u001b[0mest\u001b[0m\u001b[0;34m.\u001b[0m\u001b[0m__class__\u001b[0m\u001b[0;34m.\u001b[0m\u001b[0m__name__\u001b[0m\u001b[0;34m,\u001b[0m \u001b[0mis_estimator_type\u001b[0m\u001b[0;34m.\u001b[0m\u001b[0m__name__\u001b[0m\u001b[0;34m[\u001b[0m\u001b[0;36m3\u001b[0m\u001b[0;34m:\u001b[0m\u001b[0;34m]\u001b[0m\u001b[0;34m\u001b[0m\u001b[0;34m\u001b[0m\u001b[0m\n\u001b[0m\u001b[1;32m    250\u001b[0m                     )\n\u001b[1;32m    251\u001b[0m                 )\n",
            "\u001b[0;31mValueError\u001b[0m: The estimator Sequential should be a classifier."
          ]
        }
      ]
    },
    {
      "cell_type": "markdown",
      "metadata": {
        "id": "8T2oMr51BdYL"
      },
      "source": [
        "# 5 기타: 정확도 비교 그래프"
      ]
    },
    {
      "cell_type": "markdown",
      "metadata": {
        "id": "oG50NpkmBla0"
      },
      "source": [
        "**지금까지 학습시킨 알고리즘들의 정확도 비교**"
      ]
    },
    {
      "cell_type": "code",
      "metadata": {
        "colab": {
          "base_uri": "https://localhost:8080/"
        },
        "id": "-un-5U5NpQCw",
        "outputId": "e2d1c12d-0d36-4b01-e499-669ec9c43276"
      },
      "source": [
        "print('accuracy 비교')\n",
        "print('hard voting raw: %.8f' % accuracy_score(y_test, hard_voting_model.predict(X_test)))\n",
        "print('soft voting raw: %.8f' % accuracy_score(y_test, soft_voting_model.predict(X_test)))\n",
        "print('')\n",
        "print('K      N      N: %.8f' % accuracy_score(y_test, knn.predict(X_test)))\n",
        "print('S      V      C: %.8f' % accuracy_score(y_test, clf.predict(X_test)))\n",
        "print('Gaussian   N  B: %.8f' % accuracy_score(y_test, gnb.predict(X_test)))\n",
        "print('light   G  B  M: %.8f' % accuracy_score(y_test, lgbm_wrapper.predict(X_test)))\n",
        "print('hard voting  up: %.8f' % accuracy_score(y_test, hard4_voting_model0.predict(X_test)))\n",
        "print('soft voting  up: %.8f' % accuracy_score(y_test, soft4_voting_model0.predict(X_test)))\n",
        "print('')\n",
        "print('Random   Forest: %.8f' % accuracy_score(y_test, grid.predict(X_test)))    \n",
        "print('')\n",
        "print('LogisticR.Keras: %.8f' % LoR1.evaluate(X_test, y_test, verbose=0)[1])    "
      ],
      "execution_count": null,
      "outputs": [
        {
          "output_type": "stream",
          "text": [
            "accuracy 비교\n",
            "hard voting raw: 0.93000000\n",
            "soft voting raw: 0.92750000\n",
            "\n",
            "K      N      N: 0.92750000\n",
            "S      V      C: 0.93000000\n",
            "Gaussian   N  B: 0.90750000\n",
            "light   G  B  M: 0.93000000\n",
            "hard voting  up: 0.93250000\n",
            "soft voting  up: 0.93000000\n",
            "\n",
            "Random   Forest: 0.93000000\n",
            "\n",
            "LogisticR.Keras: 0.93000001\n"
          ],
          "name": "stdout"
        }
      ]
    },
    {
      "cell_type": "code",
      "metadata": {
        "colab": {
          "base_uri": "https://localhost:8080/",
          "height": 332
        },
        "id": "wzDbj6e-8jfy",
        "outputId": "5e582eab-d652-4b0c-b36d-636c42aca3cc"
      },
      "source": [
        "fig, ax = plt.subplots(figsize=(8, 4))\n",
        "x_data = np.arange(10)  # [0, 1, 2, 3...9] 배열을 x에 대입하여 선언\n",
        "y_data = [accuracy_score(y_test, hard_voting_model.predict(X_test)),\n",
        "                    accuracy_score(y_test, soft_voting_model.predict(X_test)),\n",
        "                    accuracy_score(y_test, knn.predict(X_test)),\n",
        "                    accuracy_score(y_test, clf.predict(X_test)),\n",
        "                    accuracy_score(y_test, gnb.predict(X_test)),\n",
        "                    accuracy_score(y_test, lgbm_wrapper.predict(X_test)),\n",
        "                    accuracy_score(y_test, hard4_voting_model0.predict(X_test)),\n",
        "                    accuracy_score(y_test, soft4_voting_model0.predict(X_test)),\n",
        "                    accuracy_score(y_test, rf_clf.predict(X_test)),\n",
        "                    LoR1.evaluate(X_test, y_test, verbose=0)[1]] \n",
        "g = sns.barplot(ax=ax, palette='husl', x=x_data, y=y_data)\n",
        "g.set_xticklabels(['Hard(raw)','Soft(raw)', 'KNN', 'SVC', 'GNB', 'LGBM', \n",
        "                   'Hard(up)', 'Soft(up)', 'RF', 'LoR(Ke)'], rotation=45)  \n",
        "                   # x축 레이블 설정\n",
        "g.set(ylim=(0.90, 0.94))\n",
        "g.tick_params(labelsize=13)    # X축과 Y축의 레이블 폰트 크기 설정\n",
        "g.axes.set_title('알고리즘별 정확도 비교', fontsize=20)\n",
        "for p in g.patches:            # 막대 위에 숫자를 표시\n",
        "    g.annotate(format(p.get_height(), '.4f'), \n",
        "                   (p.get_x() + p.get_width() / 2., p.get_height()), \n",
        "                   ha = 'center', va = 'center', xytext = (0, 8), \n",
        "                   textcoords = 'offset points', size=11) \n",
        "plt.show()"
      ],
      "execution_count": null,
      "outputs": [
        {
          "output_type": "display_data",
          "data": {
            "image/png": "[encoded data removed]",
            "text/plain": [
              "<Figure size 576x288 with 1 Axes>"
            ]
          },
          "metadata": {
            "tags": [],
            "needs_background": "light"
          }
        }
      ]
    }
  ]
}